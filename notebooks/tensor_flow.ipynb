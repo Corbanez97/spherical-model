{
 "cells": [
  {
   "cell_type": "code",
   "execution_count": 41,
   "id": "9fc9920f",
   "metadata": {},
   "outputs": [
    {
     "name": "stdout",
     "output_type": "stream",
     "text": [
      "Num GPUs Available:  1\n",
      "Default GPU Device: /device:GPU:0\n",
      "TensorFlow **IS** using the GPU\n"
     ]
    },
    {
     "name": "stderr",
     "output_type": "stream",
     "text": [
      "I0000 00:00:1757783452.018727   18780 gpu_device.cc:2020] Created device /device:GPU:0 with 5563 MB memory:  -> device: 0, name: NVIDIA GeForce RTX 4060 Laptop GPU, pci bus id: 0000:01:00.0, compute capability: 8.9\n",
      "I0000 00:00:1757783452.019104   18780 gpu_device.cc:2020] Created device /device:GPU:0 with 5563 MB memory:  -> device: 0, name: NVIDIA GeForce RTX 4060 Laptop GPU, pci bus id: 0000:01:00.0, compute capability: 8.9\n"
     ]
    }
   ],
   "source": [
    "import os # Turn of warning and information outputs\n",
    "os.environ['TF_ENABLE_ONEDNN_OPTS'] = '0'\n",
    "os.environ['TF_CPP_MIN_LOG_LEVEL'] = '2'\n",
    "\n",
    "import tensorflow as tf\n",
    "\n",
    "# Validating the execution of TensorFlow using GPU. TensorFlow is great at running things in parallel using your GPU!!\n",
    "print(\"Num GPUs Available: \", len(tf.config.experimental.list_physical_devices('GPU')))\n",
    "\n",
    "if tf.test.gpu_device_name():\n",
    "    print('Default GPU Device: {}'.format(tf.test.gpu_device_name()))\n",
    "else:\n",
    "    print(\"Please install GPU version of TF\")\n",
    "\n",
    "if tf.config.list_physical_devices('GPU'):\n",
    "  print(\"TensorFlow **IS** using the GPU\")\n",
    "else:\n",
    "  print(\"TensorFlow **IS NOT** using the GPU\")"
   ]
  },
  {
   "cell_type": "markdown",
   "id": "44f13990",
   "metadata": {},
   "source": [
    "# Tensors"
   ]
  },
  {
   "cell_type": "markdown",
   "id": "3ff3d01a",
   "metadata": {},
   "source": [
    "TensorFlow operates on multidimensional arrays or tensors, $T_{\\mu_1 \\mu_2 \\mu_3 ... \\mu_n}$ represented as tf.Tensor objects. For instance, a rank-1 tensor, $x_\\mu$, can be created from an array:"
   ]
  },
  {
   "cell_type": "code",
   "execution_count": 42,
   "id": "88b77993",
   "metadata": {},
   "outputs": [
    {
     "name": "stdout",
     "output_type": "stream",
     "text": [
      "(2,)\n",
      "<dtype: 'int32'>\n",
      "tf.Tensor(1, shape=(), dtype=int32)\n"
     ]
    }
   ],
   "source": [
    "x = tf.constant([1, 2])\n",
    "print(x.shape)\n",
    "print(x.dtype)\n",
    "print(tf.rank(x))"
   ]
  },
  {
   "cell_type": "markdown",
   "id": "b5f6fa0f",
   "metadata": {},
   "source": [
    "and operated on an it as follows:"
   ]
  },
  {
   "cell_type": "code",
   "execution_count": 43,
   "id": "fff21e35",
   "metadata": {},
   "outputs": [
    {
     "name": "stdout",
     "output_type": "stream",
     "text": [
      "tf.Tensor([2 3], shape=(2,), dtype=int32)\n"
     ]
    }
   ],
   "source": [
    "y = x + 1\n",
    "print(y)"
   ]
  },
  {
   "cell_type": "markdown",
   "id": "3b03b735",
   "metadata": {},
   "source": [
    "A rank-2 tensor, $A_{\\mu \\nu}$, can be created from a matrix"
   ]
  },
  {
   "cell_type": "code",
   "execution_count": 44,
   "id": "1a8a6068",
   "metadata": {},
   "outputs": [
    {
     "name": "stdout",
     "output_type": "stream",
     "text": [
      "(2, 2)\n",
      "tf.Tensor(2, shape=(), dtype=int32)\n"
     ]
    }
   ],
   "source": [
    "A = tf.constant([[1, 2], [3, 4]], dtype=tf.float32)\n",
    "print(A.shape)\n",
    "print(tf.rank(A))"
   ]
  },
  {
   "cell_type": "markdown",
   "id": "aa8c3356",
   "metadata": {},
   "source": [
    "and operaerated on as follows:"
   ]
  },
  {
   "cell_type": "code",
   "execution_count": 45,
   "id": "6066ab5d",
   "metadata": {},
   "outputs": [
    {
     "data": {
      "text/plain": [
       "<tf.Tensor: shape=(2, 2), dtype=float32, numpy=\n",
       "array([[ 7., 10.],\n",
       "       [15., 22.]], dtype=float32)>"
      ]
     },
     "execution_count": 45,
     "metadata": {},
     "output_type": "execute_result"
    }
   ],
   "source": [
    "A @ A # TensorFlow's dot product operator"
   ]
  },
  {
   "cell_type": "code",
   "execution_count": 46,
   "id": "16fd8487",
   "metadata": {},
   "outputs": [
    {
     "name": "stdout",
     "output_type": "stream",
     "text": [
      "tf.Tensor(\n",
      "[[19. 22.]\n",
      " [43. 50.]], shape=(2, 2), dtype=float32)\n",
      "tf.Tensor(\n",
      "[[23. 34.]\n",
      " [31. 46.]], shape=(2, 2), dtype=float32)\n"
     ]
    }
   ],
   "source": [
    "B = tf.constant([[5, 6], [7, 8]], dtype = tf.float32)\n",
    "# Tensorflow's matrix multiplication operator\n",
    "print(A @ B) \n",
    "print(B @ A)"
   ]
  },
  {
   "cell_type": "code",
   "execution_count": 47,
   "id": "0e0a6f6d",
   "metadata": {},
   "outputs": [
    {
     "name": "stdout",
     "output_type": "stream",
     "text": [
      "tf.Tensor(\n",
      "[[1. 0.]\n",
      " [0. 1.]], shape=(2, 2), dtype=float32)\n"
     ]
    }
   ],
   "source": [
    "A_inv = tf.linalg.inv(A)\n",
    "print(tf.round(A @ A_inv))"
   ]
  },
  {
   "cell_type": "code",
   "execution_count": 48,
   "id": "1799c2b6",
   "metadata": {},
   "outputs": [
    {
     "name": "stdout",
     "output_type": "stream",
     "text": [
      "tf.Tensor([[ 1. -1.]], shape=(1, 2), dtype=float32)\n",
      "tf.Tensor(\n",
      "[[ 1.]\n",
      " [-1.]], shape=(2, 1), dtype=float32)\n",
      "tf.Tensor([[2.]], shape=(1, 1), dtype=float32)\n",
      "tf.Tensor(\n",
      "[[ 1. -1.]\n",
      " [-1.  1.]], shape=(2, 2), dtype=float32)\n"
     ]
    }
   ],
   "source": [
    "sigma = tf.constant([[1.0, -1.0]], dtype=tf.float32)\n",
    "print(sigma)\n",
    "print(tf.transpose(sigma))\n",
    "print(sigma @ tf.transpose(sigma))\n",
    "print(tf.transpose(sigma) @ sigma)"
   ]
  },
  {
   "cell_type": "markdown",
   "id": "8dcb593b",
   "metadata": {},
   "source": [
    "These objects defined so far are immutable. Any mutable state must be defined as"
   ]
  },
  {
   "cell_type": "code",
   "execution_count": 49,
   "id": "fb22d718",
   "metadata": {},
   "outputs": [],
   "source": [
    "sigma = tf.Variable([0.0, 0.0, 0.0])"
   ]
  },
  {
   "cell_type": "markdown",
   "id": "da3e8a3e",
   "metadata": {},
   "source": [
    "wich can be changed from the assign methods"
   ]
  },
  {
   "cell_type": "code",
   "execution_count": 50,
   "id": "66801c8c",
   "metadata": {},
   "outputs": [
    {
     "name": "stdout",
     "output_type": "stream",
     "text": [
      "<tf.Variable 'Variable:0' shape=(3,) dtype=float32, numpy=array([1., 2., 3.], dtype=float32)>\n",
      "<tf.Variable 'Variable:0' shape=(3,) dtype=float32, numpy=array([2., 2., 3.], dtype=float32)>\n"
     ]
    },
    {
     "data": {
      "text/plain": [
       "<tf.Variable 'UnreadVariable' shape=(3,) dtype=float32, numpy=array([   2. ,   -0.5, -124. ], dtype=float32)>"
      ]
     },
     "execution_count": 50,
     "metadata": {},
     "output_type": "execute_result"
    }
   ],
   "source": [
    "sigma.assign([1, 2, 3])\n",
    "print(sigma)\n",
    "sigma.assign_add([1, 0, 0])\n",
    "print(sigma)\n",
    "sigma.assign_sub([0, 2.5, 127])"
   ]
  },
  {
   "cell_type": "markdown",
   "id": "b33ad8ee",
   "metadata": {},
   "source": [
    "## Manipulating Shapes"
   ]
  },
  {
   "cell_type": "markdown",
   "id": "f69ec1cb",
   "metadata": {},
   "source": [
    "Let's say we create a rank-3 tensor"
   ]
  },
  {
   "cell_type": "code",
   "execution_count": 78,
   "id": "87e45dc3",
   "metadata": {},
   "outputs": [
    {
     "name": "stdout",
     "output_type": "stream",
     "text": [
      "tf.Tensor(\n",
      "[[[ 0  1  2  3  4]\n",
      "  [ 5  6  7  8  9]]\n",
      "\n",
      " [[10 11 12 13 14]\n",
      "  [15 16 17 18 19]]\n",
      "\n",
      " [[20 21 22 23 24]\n",
      "  [25 26 27 28 29]]], shape=(3, 2, 5), dtype=int32)\n"
     ]
    }
   ],
   "source": [
    "rank_3_tensor = tf.constant([\n",
    "  [[0, 1, 2, 3, 4],\n",
    "   [5, 6, 7, 8, 9]],\n",
    "  [[10, 11, 12, 13, 14],\n",
    "   [15, 16, 17, 18, 19]],\n",
    "  [[20, 21, 22, 23, 24],\n",
    "   [25, 26, 27, 28, 29]],])\n",
    "\n",
    "print(rank_3_tensor)"
   ]
  },
  {
   "cell_type": "markdown",
   "id": "0c89029d",
   "metadata": {},
   "source": [
    "We can reshape it to "
   ]
  },
  {
   "cell_type": "code",
   "execution_count": 80,
   "id": "d09a4034",
   "metadata": {},
   "outputs": [
    {
     "name": "stdout",
     "output_type": "stream",
     "text": [
      "tf.Tensor(\n",
      "[[ 0  1  2  3  4]\n",
      " [ 5  6  7  8  9]\n",
      " [10 11 12 13 14]\n",
      " [15 16 17 18 19]\n",
      " [20 21 22 23 24]\n",
      " [25 26 27 28 29]], shape=(6, 5), dtype=int32) \n",
      "\n",
      "tf.Tensor(\n",
      "[[ 0  1  2  3  4  5  6  7  8  9]\n",
      " [10 11 12 13 14 15 16 17 18 19]\n",
      " [20 21 22 23 24 25 26 27 28 29]], shape=(3, 10), dtype=int32)\n",
      "tf.Tensor(\n",
      "[ 0  1  2  3  4  5  6  7  8  9 10 11 12 13 14 15 16 17 18 19 20 21 22 23\n",
      " 24 25 26 27 28 29], shape=(30,), dtype=int32)\n"
     ]
    }
   ],
   "source": [
    "print(tf.reshape(rank_3_tensor, [3*2, 5]), \"\\n\")\n",
    "print(tf.reshape(rank_3_tensor, [3, -1]))\n",
    "print(tf.reshape(rank_3_tensor, [-1]))"
   ]
  },
  {
   "cell_type": "markdown",
   "id": "5eddc746",
   "metadata": {},
   "source": [
    "# Automatic Differentiation"
   ]
  },
  {
   "cell_type": "markdown",
   "id": "aabe1210",
   "metadata": {},
   "source": [
    "To enable algorithms like Gradient Descent, TensorFlow implements automatic differentiation (autodiff)."
   ]
  },
  {
   "cell_type": "code",
   "execution_count": 51,
   "id": "1fa742a2",
   "metadata": {},
   "outputs": [
    {
     "name": "stdout",
     "output_type": "stream",
     "text": [
      "tf.Tensor(0.0, shape=(), dtype=float32)\n",
      "tf.Tensor(1.0, shape=(), dtype=float32)\n"
     ]
    }
   ],
   "source": [
    "x = tf.Variable(-1.0)\n",
    "\n",
    "def f(x):\n",
    "    return x**3 + x**2\n",
    "\n",
    "print(f(x))\n",
    "\n",
    "with tf.GradientTape() as tape:\n",
    "    y = f(x)\n",
    "\n",
    "f_prime = tape.gradient(y, x) # f_prime = 3*(x=-1)**2 + 2*(x=-1)\n",
    "\n",
    "print(f_prime)"
   ]
  },
  {
   "cell_type": "code",
   "execution_count": 52,
   "id": "d5367290",
   "metadata": {},
   "outputs": [
    {
     "name": "stdout",
     "output_type": "stream",
     "text": [
      "tf.Tensor(True, shape=(), dtype=bool)\n"
     ]
    }
   ],
   "source": [
    "x = tf.Variable(1.0)\n",
    "\n",
    "with tf.GradientTape() as tape2:\n",
    "    y = tf.exp(x)\n",
    "\n",
    "exp_prime = tape2.gradient(y, x) # exp_prime = exp(x=1)\n",
    "print(exp_prime == y) # Noicee"
   ]
  },
  {
   "cell_type": "code",
   "execution_count": 53,
   "id": "b7dfda7b",
   "metadata": {},
   "outputs": [
    {
     "name": "stdout",
     "output_type": "stream",
     "text": [
      "tf.Tensor(0.5, shape=(), dtype=float32)\n"
     ]
    }
   ],
   "source": [
    "x = tf.Variable(2.0)\n",
    "\n",
    "with tf.GradientTape(persistent=True) as tape3:\n",
    "    y = tf.math.log(x)\n",
    "\n",
    "log_prime = tape3.gradient(y, x) # log_prime = 1/x\n",
    "print(log_prime)"
   ]
  },
  {
   "cell_type": "code",
   "execution_count": 54,
   "id": "8d28d4a8",
   "metadata": {},
   "outputs": [
    {
     "name": "stdout",
     "output_type": "stream",
     "text": [
      "tf.Tensor(-1.0, shape=(), dtype=float32)\n"
     ]
    }
   ],
   "source": [
    "from tensorflow.experimental import numpy as tnp # start using tnp instead of numpy or math library\n",
    "x = tf.Variable(tnp.pi)\n",
    "\n",
    "with tf.GradientTape() as tape4:\n",
    "    y = tnp.sin(x)\n",
    "\n",
    "sin_prime = tape4.gradient(y, x) # sin_prime = cos(pi) = -1\n",
    "print(sin_prime)"
   ]
  },
  {
   "cell_type": "markdown",
   "id": "0de5c146",
   "metadata": {},
   "source": [
    "# Graphs and `tf.function`"
   ]
  },
  {
   "cell_type": "markdown",
   "id": "93d84f30",
   "metadata": {},
   "source": [
    "Using the decorator `@tf.function` will enable the framework to capture the structure of your pure-TensorFlow code and optimize it into graphs of TensorFlow computations. Refer to [Intro to Graphs](https://www.tensorflow.org/guide/intro_to_graphs) for more details"
   ]
  },
  {
   "cell_type": "code",
   "execution_count": 55,
   "id": "9454aecc",
   "metadata": {},
   "outputs": [],
   "source": [
    "@tf.function\n",
    "def f(x):\n",
    "    print('Summing...\\n')\n",
    "    return tf.reduce_sum(x)\n",
    "\n",
    "x = tf.constant([[-1,2], [2, 1]])"
   ]
  },
  {
   "cell_type": "code",
   "execution_count": 56,
   "id": "15acdf61",
   "metadata": {},
   "outputs": [
    {
     "name": "stdout",
     "output_type": "stream",
     "text": [
      "First call...\n",
      "Summing...\n",
      "\n",
      "tf.Tensor(4, shape=(), dtype=int32)\n",
      "Second call...\n",
      "tf.Tensor(4, shape=(), dtype=int32)\n",
      "Another call with the same signature of the inpu tensor...\n",
      "tf.Tensor(0, shape=(), dtype=int32)\n",
      "One last call with a tensor of a different signature...\n",
      "Summing...\n",
      "\n",
      "tf.Tensor(201, shape=(), dtype=int32)\n"
     ]
    }
   ],
   "source": [
    "print('First call...')\n",
    "print(f(x))\n",
    "\n",
    "print('Second call...')\n",
    "print(f(x))\n",
    "\n",
    "print('Another call with the same signature of the inpu tensor...')\n",
    "print(f(tf.constant([[0, 0], [0,0]])))\n",
    "\n",
    "print('One last call with a tensor of a different signature...')\n",
    "print(f(tf.constant([0, 1, 200])))"
   ]
  },
  {
   "cell_type": "markdown",
   "id": "b1654bfc",
   "metadata": {},
   "source": [
    "# Modules, layers, and models"
   ]
  },
  {
   "cell_type": "code",
   "execution_count": 57,
   "id": "026142ed",
   "metadata": {},
   "outputs": [],
   "source": [
    "class MyModule(tf.Module):\n",
    "  def __init__(self, value):\n",
    "    self.weight = tf.Variable(value)\n",
    "\n",
    "  @tf.function\n",
    "  def multiply(self, x):\n",
    "    return x * self.weight"
   ]
  },
  {
   "cell_type": "code",
   "execution_count": 58,
   "id": "929b9f1a",
   "metadata": {},
   "outputs": [
    {
     "data": {
      "text/plain": [
       "<tf.Tensor: shape=(3,), dtype=int32, numpy=array([3, 6, 9], dtype=int32)>"
      ]
     },
     "execution_count": 58,
     "metadata": {},
     "output_type": "execute_result"
    }
   ],
   "source": [
    "mod = MyModule(3)\n",
    "mod.multiply(tf.constant([1, 2, 3]))"
   ]
  },
  {
   "cell_type": "code",
   "execution_count": 59,
   "id": "c161da80",
   "metadata": {},
   "outputs": [
    {
     "data": {
      "text/plain": [
       "<tf.Variable 'Variable:0' shape=() dtype=int32, numpy=3>"
      ]
     },
     "execution_count": 59,
     "metadata": {},
     "output_type": "execute_result"
    }
   ],
   "source": [
    "mod.weight"
   ]
  },
  {
   "cell_type": "code",
   "execution_count": 61,
   "id": "b2d0db8d",
   "metadata": {},
   "outputs": [
    {
     "name": "stdout",
     "output_type": "stream",
     "text": [
      "INFO:tensorflow:Assets written to: ../models/my_module_example/assets\n"
     ]
    },
    {
     "name": "stderr",
     "output_type": "stream",
     "text": [
      "INFO:tensorflow:Assets written to: ../models/my_module_example/assets\n"
     ]
    }
   ],
   "source": [
    "tf.saved_model.save(mod, '../models/my_module_example')"
   ]
  },
  {
   "cell_type": "markdown",
   "id": "41f21714",
   "metadata": {},
   "source": [
    "# Training a model from scratch"
   ]
  },
  {
   "cell_type": "code",
   "execution_count": 62,
   "id": "2b0ab804",
   "metadata": {},
   "outputs": [],
   "source": [
    "import matplotlib\n",
    "from matplotlib import pyplot as plt\n",
    "\n",
    "matplotlib.rcParams['figure.figsize'] = [9, 6]"
   ]
  },
  {
   "cell_type": "code",
   "execution_count": 73,
   "id": "30ca9d54",
   "metadata": {},
   "outputs": [
    {
     "data": {
      "image/png": "[encoded data removed]",
      "text/plain": [
       "<Figure size 900x600 with 1 Axes>"
      ]
     },
     "metadata": {},
     "output_type": "display_data"
    }
   ],
   "source": [
    "x = tf.linspace(-2, 2, 201)\n",
    "x = tf.cast(x, tf.float32)\n",
    "\n",
    "def f(x):\n",
    "  y = x**3 + x**2 - 5\n",
    "  return y\n",
    "\n",
    "y = f(x) + tf.random.normal(shape=[201])\n",
    "\n",
    "plt.plot(x.numpy(), y.numpy(), '.', label='Data')\n",
    "plt.plot(x, f(x), label='Ground truth')\n",
    "plt.legend();"
   ]
  },
  {
   "cell_type": "code",
   "execution_count": 81,
   "id": "b33f41e4",
   "metadata": {},
   "outputs": [],
   "source": [
    "new_model = tf.keras.Sequential([\n",
    "    tf.keras.layers.Lambda(lambda x: tf.stack([x, x**2, x**3], axis=1)),\n",
    "    tf.keras.layers.Dense(units=1, kernel_initializer=tf.random.normal)])"
   ]
  },
  {
   "cell_type": "code",
   "execution_count": 87,
   "id": "cd4a5751",
   "metadata": {},
   "outputs": [],
   "source": [
    "new_model.compile(\n",
    "    loss=tf.keras.losses.MSE,\n",
    "    optimizer=tf.keras.optimizers.SGD(learning_rate=0.01))\n",
    "\n",
    "history = new_model.fit(x, y,\n",
    "                        epochs=100,\n",
    "                        batch_size=32,\n",
    "                        verbose=0)\n",
    "\n",
    "new_model.save('../models/my_model_example/my_model_example.keras')"
   ]
  },
  {
   "cell_type": "code",
   "execution_count": 83,
   "id": "aa17c5f1",
   "metadata": {},
   "outputs": [
    {
     "data": {
      "image/png": "[encoded data removed]",
      "text/plain": [
       "<Figure size 900x600 with 1 Axes>"
      ]
     },
     "metadata": {},
     "output_type": "display_data"
    }
   ],
   "source": [
    "plt.plot(history.history['loss'])\n",
    "plt.xlabel('Epoch')\n",
    "plt.ylim([0, max(plt.ylim())])\n",
    "plt.ylabel('Loss [Mean Squared Error]')\n",
    "plt.title('Keras training progress');"
   ]
  },
  {
   "cell_type": "code",
   "execution_count": 85,
   "id": "c5fdefaf",
   "metadata": {},
   "outputs": [
    {
     "data": {
      "image/png": "[encoded data removed]",
      "text/plain": [
       "<Figure size 900x600 with 1 Axes>"
      ]
     },
     "metadata": {},
     "output_type": "display_data"
    }
   ],
   "source": [
    "def plot_preds(x, y, f, model, title):\n",
    "  plt.figure()\n",
    "  plt.plot(x, y, '.', label='Data')\n",
    "  plt.plot(x, f(x), label='Ground truth')\n",
    "  plt.plot(x, model(x), label='Predictions')\n",
    "  plt.title(title)\n",
    "  plt.legend()\n",
    "\n",
    "plot_preds(x, y, f, new_model, 'After Training: Keras')"
   ]
  }
 ],
 "metadata": {
  "kernelspec": {
   "display_name": ".venv",
   "language": "python",
   "name": "python3"
  },
  "language_info": {
   "codemirror_mode": {
    "name": "ipython",
    "version": 3
   },
   "file_extension": ".py",
   "mimetype": "text/x-python",
   "name": "python",
   "nbconvert_exporter": "python",
   "pygments_lexer": "ipython3",
   "version": "3.12.3"
  }
 },
 "nbformat": 4,
 "nbformat_minor": 5
}
