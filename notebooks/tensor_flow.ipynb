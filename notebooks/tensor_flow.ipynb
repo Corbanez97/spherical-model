{
 "cells": [
  {
   "cell_type": "code",
   "execution_count": 4,
   "id": "9fc9920f",
   "metadata": {},
   "outputs": [],
   "source": [
    "import tensorflow as tf"
   ]
  },
  {
   "cell_type": "markdown",
   "id": "3ff3d01a",
   "metadata": {},
   "source": [
    "TensorFlow operates on multidimensional arrays or tensors, $T_{\\mu_1 \\mu_2 \\mu_3 ... \\mu_n}$ represented as tf.Tensor objects. For instance, a rank 1 tensor, $x_\\mu$, can be created from an array:"
   ]
  },
  {
   "cell_type": "code",
   "execution_count": 20,
   "id": "88b77993",
   "metadata": {},
   "outputs": [
    {
     "name": "stdout",
     "output_type": "stream",
     "text": [
      "(2,)\n",
      "<dtype: 'int32'>\n",
      "tf.Tensor(1, shape=(), dtype=int32)\n"
     ]
    }
   ],
   "source": [
    "x = tf.constant([1, 2])\n",
    "print(x.shape)\n",
    "print(x.dtype)\n",
    "print(tf.rank(x))"
   ]
  },
  {
   "cell_type": "markdown",
   "id": "b5f6fa0f",
   "metadata": {},
   "source": [
    "and operated on an it as follows:"
   ]
  },
  {
   "cell_type": "code",
   "execution_count": 21,
   "id": "fff21e35",
   "metadata": {},
   "outputs": [
    {
     "name": "stdout",
     "output_type": "stream",
     "text": [
      "tf.Tensor([2 3], shape=(2,), dtype=int32)\n"
     ]
    }
   ],
   "source": [
    "y = x + 1\n",
    "print(y)"
   ]
  },
  {
   "cell_type": "markdown",
   "id": "3b03b735",
   "metadata": {},
   "source": [
    "A rank 2 tensor, $A_{\\mu \\nu}$, can be created from a matrix"
   ]
  },
  {
   "cell_type": "code",
   "execution_count": 26,
   "id": "1a8a6068",
   "metadata": {},
   "outputs": [
    {
     "name": "stdout",
     "output_type": "stream",
     "text": [
      "(2, 2)\n",
      "tf.Tensor(2, shape=(), dtype=int32)\n"
     ]
    }
   ],
   "source": [
    "A = tf.constant([[1, 2], [3, 4]], dtype=tf.float32)\n",
    "print(A.shape)\n",
    "print(tf.rank(A))"
   ]
  },
  {
   "cell_type": "markdown",
   "id": "aa8c3356",
   "metadata": {},
   "source": [
    "and operaerated on as follows:"
   ]
  },
  {
   "cell_type": "code",
   "execution_count": 23,
   "id": "6066ab5d",
   "metadata": {},
   "outputs": [
    {
     "data": {
      "text/plain": [
       "<tf.Tensor: shape=(2, 2), dtype=float32, numpy=\n",
       "array([[ 7., 10.],\n",
       "       [15., 22.]], dtype=float32)>"
      ]
     },
     "execution_count": 23,
     "metadata": {},
     "output_type": "execute_result"
    }
   ],
   "source": [
    "A @ A # TensorFlow's dot product operator"
   ]
  },
  {
   "cell_type": "code",
   "execution_count": null,
   "id": "16fd8487",
   "metadata": {},
   "outputs": [
    {
     "name": "stdout",
     "output_type": "stream",
     "text": [
      "tf.Tensor(\n",
      "[[19. 22.]\n",
      " [43. 50.]], shape=(2, 2), dtype=float32)\n",
      "tf.Tensor(\n",
      "[[23. 34.]\n",
      " [31. 46.]], shape=(2, 2), dtype=float32)\n"
     ]
    }
   ],
   "source": [
    "B = tf.constant([[5, 6], [7, 8]], dtype = tf.float32)\n",
    "# Tensorflow's matrix multiplication operator\n",
    "print(A @ B) \n",
    "print(B @ A)"
   ]
  },
  {
   "cell_type": "code",
   "execution_count": 38,
   "id": "0e0a6f6d",
   "metadata": {},
   "outputs": [
    {
     "name": "stdout",
     "output_type": "stream",
     "text": [
      "tf.Tensor(\n",
      "[[ 1.  0.]\n",
      " [-0.  1.]], shape=(2, 2), dtype=float32)\n"
     ]
    }
   ],
   "source": [
    "A_inv = tf.linalg.inv(A)\n",
    "print(tf.round(A @ A_inv))"
   ]
  },
  {
   "cell_type": "code",
   "execution_count": null,
   "id": "1799c2b6",
   "metadata": {},
   "outputs": [
    {
     "name": "stdout",
     "output_type": "stream",
     "text": [
      "tf.Tensor([[ 1. -1.]], shape=(1, 2), dtype=float32)\n",
      "tf.Tensor(\n",
      "[[ 1.]\n",
      " [-1.]], shape=(2, 1), dtype=float32)\n",
      "tf.Tensor([[2.]], shape=(1, 1), dtype=float32)\n",
      "tf.Tensor(\n",
      "[[ 1. -1.]\n",
      " [-1.  1.]], shape=(2, 2), dtype=float32)\n"
     ]
    }
   ],
   "source": [
    "sigma = tf.constant([[1.0, -1.0]], dtype=tf.float32)\n",
    "print(sigma)\n",
    "print(tf.transpose(sigma))\n",
    "print(sigma @ tf.transpose(sigma))\n",
    "print(tf.transpose(sigma) @ sigma)"
   ]
  },
  {
   "cell_type": "markdown",
   "id": "35b99898",
   "metadata": {},
   "source": [
    "TensorFlow is great at running things in parallel using your GPU."
   ]
  },
  {
   "cell_type": "code",
   "execution_count": 45,
   "id": "09998576",
   "metadata": {},
   "outputs": [
    {
     "name": "stdout",
     "output_type": "stream",
     "text": [
      "TensorFlow **IS NOT** using the GPU\n"
     ]
    }
   ],
   "source": [
    "if tf.config.list_physical_devices('GPU'):\n",
    "  print(\"TensorFlow **IS** using the GPU\")\n",
    "else:\n",
    "  print(\"TensorFlow **IS NOT** using the GPU\")"
   ]
  },
  {
   "cell_type": "code",
   "execution_count": 46,
   "id": "1a105fba",
   "metadata": {},
   "outputs": [
    {
     "data": {
      "text/plain": [
       "[]"
      ]
     },
     "execution_count": 46,
     "metadata": {},
     "output_type": "execute_result"
    }
   ],
   "source": [
    "tf.config.list_physical_devices('GPU')"
   ]
  },
  {
   "cell_type": "code",
   "execution_count": null,
   "id": "8dcb593b",
   "metadata": {},
   "outputs": [],
   "source": []
  }
 ],
 "metadata": {
  "kernelspec": {
   "display_name": ".venv",
   "language": "python",
   "name": "python3"
  },
  "language_info": {
   "codemirror_mode": {
    "name": "ipython",
    "version": 3
   },
   "file_extension": ".py",
   "mimetype": "text/x-python",
   "name": "python",
   "nbconvert_exporter": "python",
   "pygments_lexer": "ipython3",
   "version": "3.13.2"
  }
 },
 "nbformat": 4,
 "nbformat_minor": 5
}
