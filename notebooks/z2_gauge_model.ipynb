{
 "cells": [
  {
   "cell_type": "code",
   "execution_count": 1,
   "id": "a94fef09",
   "metadata": {},
   "outputs": [
    {
     "name": "stderr",
     "output_type": "stream",
     "text": [
      "2025-10-03 14:13:33.571698: I tensorflow/core/util/port.cc:153] oneDNN custom operations are on. You may see slightly different numerical results due to floating-point round-off errors from different computation orders. To turn them off, set the environment variable `TF_ENABLE_ONEDNN_OPTS=0`.\n",
      "2025-10-03 14:13:34.056503: I tensorflow/core/platform/cpu_feature_guard.cc:210] This TensorFlow binary is optimized to use available CPU instructions in performance-critical operations.\n",
      "To enable the following instructions: AVX2 AVX_VNNI FMA, in other operations, rebuild TensorFlow with the appropriate compiler flags.\n"
     ]
    }
   ],
   "source": [
    "import tensorflow as tf\n",
    "import numpy as np"
   ]
  },
  {
   "cell_type": "code",
   "execution_count": null,
   "id": "a664fea4",
   "metadata": {},
   "outputs": [
    {
     "name": "stdout",
     "output_type": "stream",
     "text": [
      "Horizontal links hx:\n",
      " [[-1  1 -1  1]\n",
      " [-1  1  1  1]\n",
      " [-1  1  1 -1]\n",
      " [-1  1 -1  1]]\n",
      "Vertical links hy:\n",
      " [[ 1  1  1 -1]\n",
      " [-1  1  1 -1]\n",
      " [-1 -1 -1  1]\n",
      " [ 1  1 -1 -1]]\n"
     ]
    }
   ],
   "source": [
    "def init_links(Lx: int, Ly: int, random: bool = True):\n",
    "    \"\"\"\n",
    "    Initialize horizontal (hx) and vertical (hy) link spins for Z2 gauge theory.\n",
    "\n",
    "    Parameters\n",
    "    ----------\n",
    "    Lx, Ly : int\n",
    "        Lattice size (sites).\n",
    "    random : bool, default True\n",
    "        If True, initialize links randomly with ±1.\n",
    "        If False, initialize all to +1.\n",
    "\n",
    "    Returns\n",
    "    -------\n",
    "    hx : np.ndarray of shape (Lx, Ly)\n",
    "        Horizontal link spins.\n",
    "    hy : np.ndarray of shape (Lx, Ly)\n",
    "        Vertical link spins.\n",
    "    \"\"\"\n",
    "    if random:\n",
    "        hx = np.random.choice([-1, 1], size=(Lx, Ly))\n",
    "        hy = np.random.choice([-1, 1], size=(Lx, Ly))\n",
    "    else:\n",
    "        hx = np.ones((Lx, Ly), dtype=int)\n",
    "        hy = np.ones((Lx, Ly), dtype=int)\n",
    "\n",
    "    return hx, hy\n",
    "\n",
    "def plaquettes_from_links_tf(hx, hy, periodic=\"xy\"):\n",
    "    \"\"\"\n",
    "    Compute Z2 plaquettes from link fields with customizable boundary conditions.\n",
    "\n",
    "    Parameters\n",
    "    ----------\n",
    "    hx : tf.Tensor, shape (Lx, Ly)\n",
    "        Horizontal link spins (±1).\n",
    "    hy : tf.Tensor, shape (Lx, Ly)\n",
    "        Vertical link spins (±1).\n",
    "    periodic : str or None\n",
    "        Boundary condition type:\n",
    "          None  -> open boundaries\n",
    "          'x'   -> periodic along x-axis (rows)\n",
    "          'y'   -> periodic along y-axis (cols)\n",
    "          'xy'  -> periodic along both (torus)\n",
    "\n",
    "    Returns\n",
    "    -------\n",
    "    P : tf.Tensor, shape (Lx, Ly)\n",
    "        Plaquette values (±1 or 0 if incomplete at boundary).\n",
    "    Sx, Sy : tf.Tensor\n",
    "        Intermediate pairwise products along y and x respectively.\n",
    "    \"\"\"\n",
    "    Lx = tf.shape(hx)[0]\n",
    "    Ly = tf.shape(hx)[1]\n",
    "\n",
    "    if periodic in (\"y\", \"xy\"):\n",
    "        Sx = hx * tf.roll(hx, shift=-1, axis=1)\n",
    "    else:\n",
    "        Sx = tf.concat(\n",
    "            [hx[:, :-1] * hx[:, 1:], tf.zeros([Lx, 1], dtype=hx.dtype)],\n",
    "            axis=1\n",
    "        )\n",
    "\n",
    "    if periodic in (\"x\", \"xy\"):\n",
    "        Sy = hy * tf.roll(hy, shift=-1, axis=0)\n",
    "    else:\n",
    "        Sy = tf.concat(\n",
    "            [hy[:-1, :] * hy[1:, :], tf.zeros([1, Ly], dtype=hy.dtype)],\n",
    "            axis=0\n",
    "        )\n",
    "\n",
    "    P = Sx * Sy\n",
    "    return P, Sx, Sy\n",
    "\n",
    "\n",
    "\n",
    "# Example: 4x4 lattice\n",
    "hx, hy = init_links(4, 4, random=True)\n",
    "print(\"Horizontal links hx:\\n\", hx)\n",
    "print(\"Vertical links hy:\\n\", hy)\n"
   ]
  },
  {
   "cell_type": "code",
   "execution_count": 6,
   "id": "fddabf33",
   "metadata": {},
   "outputs": [
    {
     "data": {
      "text/plain": [
       "array([[-1,  1, -1,  1],\n",
       "       [-1,  1,  1,  1],\n",
       "       [-1,  1,  1, -1],\n",
       "       [-1,  1, -1,  1]])"
      ]
     },
     "execution_count": 6,
     "metadata": {},
     "output_type": "execute_result"
    }
   ],
   "source": [
    "hx"
   ]
  },
  {
   "cell_type": "code",
   "execution_count": 7,
   "id": "01341a5e",
   "metadata": {},
   "outputs": [
    {
     "data": {
      "text/plain": [
       "array([[-1,  1, -1,  1],\n",
       "       [-1,  1,  1,  1],\n",
       "       [-1,  1,  1, -1],\n",
       "       [-1,  1, -1,  1]])"
      ]
     },
     "execution_count": 7,
     "metadata": {},
     "output_type": "execute_result"
    }
   ],
   "source": [
    "hx"
   ]
  },
  {
   "cell_type": "code",
   "execution_count": 9,
   "id": "8dd83cd1",
   "metadata": {},
   "outputs": [],
   "source": [
    "P, Sx, Sy = plaquettes_from_links_tf(hx, hy)"
   ]
  },
  {
   "cell_type": "code",
   "execution_count": 10,
   "id": "123a45f3",
   "metadata": {},
   "outputs": [
    {
     "data": {
      "text/plain": [
       "<tf.Tensor: shape=(4, 4), dtype=int64, numpy=\n",
       "array([[ 1, -1, -1, -1],\n",
       "       [-1, -1, -1,  1],\n",
       "       [ 1, -1, -1, -1],\n",
       "       [-1, -1,  1, -1]])>"
      ]
     },
     "execution_count": 10,
     "metadata": {},
     "output_type": "execute_result"
    }
   ],
   "source": [
    "P"
   ]
  },
  {
   "cell_type": "code",
   "execution_count": null,
   "id": "4c4a64de",
   "metadata": {},
   "outputs": [],
   "source": []
  }
 ],
 "metadata": {
  "kernelspec": {
   "display_name": ".venv",
   "language": "python",
   "name": "python3"
  },
  "language_info": {
   "codemirror_mode": {
    "name": "ipython",
    "version": 3
   },
   "file_extension": ".py",
   "mimetype": "text/x-python",
   "name": "python",
   "nbconvert_exporter": "python",
   "pygments_lexer": "ipython3",
   "version": "3.12.3"
  }
 },
 "nbformat": 4,
 "nbformat_minor": 5
}
