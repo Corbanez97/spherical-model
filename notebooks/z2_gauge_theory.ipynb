{
 "cells": [
  {
   "cell_type": "markdown",
   "id": "e01ab1b8",
   "metadata": {},
   "source": [
    "# $\\mathbb{Z}_2$ Gauge Theory on a Square Lattice\n",
    "\n",
    "In this notebook we build a simple **$\\mathbb{Z}_2$ lattice gauge theory** on a 2D square lattice.  \n",
    "We will:\n",
    "\n",
    "1. Define the **link variables** on a lattice.\n",
    "2. Construct the **plaquette values**.\n",
    "3. Compute the **Hamiltonian (energy)**:\n",
    "   \n",
    "$$\n",
    "H = -J \\sum_{p} \\prod_{\\ell \\in p} \\sigma_\\ell\n",
    "$$\n",
    "\n",
    "where each plaquette term is the product of 4 link variables around a square.\n"
   ]
  },
  {
   "cell_type": "code",
   "execution_count": 2,
   "id": "e8a3c080",
   "metadata": {},
   "outputs": [],
   "source": [
    "import tensorflow as tf\n",
    "\n",
    "# For reproducibility\n",
    "tf.random.set_seed(0)\n"
   ]
  },
  {
   "cell_type": "markdown",
   "id": "dbe68c94",
   "metadata": {},
   "source": [
    "## Step 1: Define the lattice and link variables\n",
    "\n",
    "- We consider a lattice of size $L \\times L$.\n",
    "- Each site has two outgoing links:\n",
    "  - $ U_x(i,j) $ : link in the x-direction\n",
    "  - $ U_y(i,j) $ : link in the y-direction\n",
    "- Therefore the link tensor has shape `(L, L, 2)`.\n",
    "- Each link takes values in {+1, -1}.\n"
   ]
  },
  {
   "cell_type": "code",
   "execution_count": 3,
   "id": "a8ff87c5",
   "metadata": {},
   "outputs": [
    {
     "name": "stderr",
     "output_type": "stream",
     "text": [
      "WARNING: All log messages before absl::InitializeLog() is called are written to STDERR\n",
      "I0000 00:00:1758151270.395170  104175 gpu_device.cc:2020] Created device /job:localhost/replica:0/task:0/device:GPU:0 with 1500 MB memory:  -> device: 0, name: NVIDIA GeForce RTX 4060 Laptop GPU, pci bus id: 0000:01:00.0, compute capability: 8.9\n"
     ]
    },
    {
     "name": "stdout",
     "output_type": "stream",
     "text": [
      "Links shape: (4, 4, 2)\n",
      "Links tensor (random ±1):\n",
      " [[[-1 -1]\n",
      "  [ 1  1]\n",
      "  [-1  1]\n",
      "  [-1  1]]\n",
      "\n",
      " [[ 1 -1]\n",
      "  [ 1  1]\n",
      "  [ 1 -1]\n",
      "  [-1  1]]\n",
      "\n",
      " [[ 1  1]\n",
      "  [ 1 -1]\n",
      "  [-1 -1]\n",
      "  [ 1  1]]\n",
      "\n",
      " [[ 1  1]\n",
      "  [ 1 -1]\n",
      "  [-1  1]\n",
      "  [-1 -1]]]\n"
     ]
    }
   ],
   "source": [
    "L = 4\n",
    "links = tf.where(\n",
    "    tf.random.uniform((L, L, 2)) < 0.5,\n",
    "    -tf.ones((L, L, 2), dtype=tf.int32),\n",
    "    tf.ones((L, L, 2), dtype=tf.int32)\n",
    ")\n",
    "\n",
    "print(\"Links shape:\", links.shape)\n",
    "print(\"Links tensor (random ±1):\\n\", links.numpy())\n"
   ]
  },
  {
   "cell_type": "markdown",
   "id": "dae170d6",
   "metadata": {},
   "source": [
    "## Step 2: Extract components $ U_x $ and $ U_y $\n",
    "\n",
    "We slice the last dimension of the tensor:\n",
    "\n",
    "$$\n",
    "U_x(i,j) = \\texttt{links}[i,j,0],\n",
    "\\quad\n",
    "U_y(i,j) = \\texttt{links}[i,j,1]\n",
    "$$\n"
   ]
  },
  {
   "cell_type": "code",
   "execution_count": 4,
   "id": "e5a3563e",
   "metadata": {},
   "outputs": [
    {
     "name": "stdout",
     "output_type": "stream",
     "text": [
      "U_x:\n",
      " [[-1  1 -1 -1]\n",
      " [ 1  1  1 -1]\n",
      " [ 1  1 -1  1]\n",
      " [ 1  1 -1 -1]]\n",
      "U_y:\n",
      " [[-1  1  1  1]\n",
      " [-1  1 -1  1]\n",
      " [ 1 -1 -1  1]\n",
      " [ 1 -1  1 -1]]\n"
     ]
    }
   ],
   "source": [
    "Ux = links[..., 0]  # shape (L, L)\n",
    "Uy = links[..., 1]  # shape (L, L)\n",
    "\n",
    "print(\"U_x:\\n\", Ux.numpy())\n",
    "print(\"U_y:\\n\", Uy.numpy())"
   ]
  },
  {
   "cell_type": "markdown",
   "id": "1d90d108",
   "metadata": {},
   "source": [
    "## Step 3: Construct the plaquette values\n",
    "\n",
    "For a plaquette with bottom-left corner at $(i,j)$:\n",
    "\n",
    "$$\n",
    "P(i,j) = U_x(i,j) \\; U_y(i+1,j) \\; U_x(i,j+1) \\; U_y(i,j)\n",
    "$$\n",
    "\n",
    "- We use `tf.roll` to shift tensors to implement periodic boundary conditions:\n",
    "  - `Uy_shift_x = tf.roll(Uy, shift=-1, axis=0)` gives $ U_y(i+1,j) $.\n",
    "  - `Ux_shift_y = tf.roll(Ux, shift=-1, axis=1)` gives $ U_x(i,j+1) $.\n"
   ]
  },
  {
   "cell_type": "code",
   "execution_count": 5,
   "id": "27ecd550",
   "metadata": {},
   "outputs": [
    {
     "name": "stdout",
     "output_type": "stream",
     "text": [
      "Plaquette values:\n",
      " [[-1 -1 -1  1]\n",
      " [-1 -1 -1 -1]\n",
      " [ 1 -1  1 -1]\n",
      " [-1  1  1  1]]\n"
     ]
    }
   ],
   "source": [
    "Uy_shift_x = tf.roll(Uy, shift=-1, axis=0)  # shift along x\n",
    "Ux_shift_y = tf.roll(Ux, shift=-1, axis=1)  # shift along y\n",
    "\n",
    "P = Ux * Uy_shift_x * Ux_shift_y * Uy\n",
    "print(\"Plaquette values:\\n\", P.numpy())"
   ]
  },
  {
   "cell_type": "markdown",
   "id": "52e311f2",
   "metadata": {},
   "source": [
    "## Step 4: Compute the Hamiltonian (energy)\n",
    "\n",
    "The Hamiltonian is:\n",
    "\n",
    "$$\n",
    "H = -J \\sum_{i,j} P(i,j)\n",
    "$$\n",
    "\n",
    "with coupling constant $J > 0$.  \n",
    "Each plaquette contributes ±1 to the sum.\n"
   ]
  },
  {
   "cell_type": "code",
   "execution_count": 6,
   "id": "0cf87bd7",
   "metadata": {},
   "outputs": [
    {
     "name": "stdout",
     "output_type": "stream",
     "text": [
      "Total energy H = 4.0\n"
     ]
    }
   ],
   "source": [
    "J = 1.0\n",
    "energy = -J * tf.reduce_sum(tf.cast(P, tf.float32))\n",
    "\n",
    "print(\"Total energy H =\", energy.numpy())\n"
   ]
  },
  {
   "cell_type": "markdown",
   "id": "3767ee93",
   "metadata": {},
   "source": []
  }
 ],
 "metadata": {
  "kernelspec": {
   "display_name": ".venv",
   "language": "python",
   "name": "python3"
  },
  "language_info": {
   "codemirror_mode": {
    "name": "ipython",
    "version": 3
   },
   "file_extension": ".py",
   "mimetype": "text/x-python",
   "name": "python",
   "nbconvert_exporter": "python",
   "pygments_lexer": "ipython3",
   "version": "3.12.3"
  }
 },
 "nbformat": 4,
 "nbformat_minor": 5
}
