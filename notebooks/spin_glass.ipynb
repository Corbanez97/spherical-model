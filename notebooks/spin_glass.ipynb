{
 "cells": [
  {
   "cell_type": "code",
   "execution_count": 1,
   "id": "c71e1a50",
   "metadata": {},
   "outputs": [
    {
     "name": "stderr",
     "output_type": "stream",
     "text": [
      "2025-10-07 12:59:58.864916: I tensorflow/core/util/port.cc:153] oneDNN custom operations are on. You may see slightly different numerical results due to floating-point round-off errors from different computation orders. To turn them off, set the environment variable `TF_ENABLE_ONEDNN_OPTS=0`.\n",
      "2025-10-07 12:59:59.445196: I tensorflow/core/platform/cpu_feature_guard.cc:210] This TensorFlow binary is optimized to use available CPU instructions in performance-critical operations.\n",
      "To enable the following instructions: AVX2 AVX_VNNI FMA, in other operations, rebuild TensorFlow with the appropriate compiler flags.\n"
     ]
    }
   ],
   "source": [
    "import tensorflow as tf\n",
    "import numpy as np\n",
    "import matplotlib.pyplot as plt\n",
    "\n",
    "import pickle"
   ]
  },
  {
   "cell_type": "code",
   "execution_count": 2,
   "id": "ba6a8c0e",
   "metadata": {},
   "outputs": [],
   "source": [
    "%reload_ext autoreload\n",
    "%autoreload 2\n",
    "\n",
    "from spin_system import SpinSystem\n",
    "from spin_system.interactions import gaussian_interaction\n",
    "from spin_system.plots import plot_spin_evolution, plot_replica_overlap"
   ]
  },
  {
   "cell_type": "code",
   "execution_count": 3,
   "id": "1a952397",
   "metadata": {},
   "outputs": [],
   "source": [
    "lattice_dim = 2\n",
    "lattice_length = 32\n",
    "lattice_replicas = 32\n",
    "initial_magnetization = .0"
   ]
  },
  {
   "cell_type": "code",
   "execution_count": 4,
   "id": "c05bfb55",
   "metadata": {},
   "outputs": [
    {
     "name": "stderr",
     "output_type": "stream",
     "text": [
      "WARNING: All log messages before absl::InitializeLog() is called are written to STDERR\n",
      "I0000 00:00:1759852804.761330   50552 gpu_device.cc:2020] Created device /job:localhost/replica:0/task:0/device:GPU:0 with 5563 MB memory:  -> device: 0, name: NVIDIA GeForce RTX 4060 Laptop GPU, pci bus id: 0000:01:00.0, compute capability: 8.9\n"
     ]
    }
   ],
   "source": [
    "spin_glass = SpinSystem(\n",
    "    lattice_dim = lattice_dim,\n",
    "    lattice_length = lattice_length,\n",
    "    lattice_replicas = lattice_replicas,\n",
    "    interaction_matrix=gaussian_interaction(lattice_dim, lattice_length),\n",
    "    model = 'spherical',\n",
    "    initial_magnetization=initial_magnetization\n",
    ")"
   ]
  },
  {
   "cell_type": "code",
   "execution_count": 5,
   "id": "3a3c0b62",
   "metadata": {},
   "outputs": [],
   "source": [
    "retry = 1\n",
    "while retry < 3:\n",
    "    try:\n",
    "        lattice_dim = 2\n",
    "        sweep_length = int(np.round(11000/retry))\n",
    "        lattice_length = 32\n",
    "        lattice_replicas = 32\n",
    "        betas = tf.sort(\n",
    "            tf.concat(\n",
    "                [\n",
    "                    tf.linspace(0.0001, 0.001, 20), \n",
    "                    tf.linspace(0.0011, 0.01, 20), \n",
    "                    tf.linspace(0.0105, 0.2, 5)\n",
    "                ], \n",
    "                axis = 0\n",
    "            )\n",
    "        )\n",
    "\n",
    "        interaction_matrix = gaussian_interaction(lattice_dim, lattice_length)\n",
    "        spin_system = SpinSystem(\n",
    "            lattice_dim=lattice_dim,\n",
    "            lattice_length=lattice_length,\n",
    "            lattice_replicas=lattice_replicas,\n",
    "            interaction_matrix=interaction_matrix,\n",
    "            model=\"spherical\",\n",
    "            initial_magnetization=0.0,\n",
    "        )\n",
    "\n",
    "        # Run the multi-temperature sweep\n",
    "        results = spin_system.multi_temperature_sweep(\n",
    "                betas=betas,\n",
    "                num_disturb=tf.constant(1, dtype=tf.int32),\n",
    "                theta_max=2*np.pi,\n",
    "                sweep_length=sweep_length,\n",
    "                restore_initial_state=True,\n",
    "                track_spins=True,\n",
    "                track_energy=True,\n",
    "                track_magnetization=True,\n",
    "                track_overlap=True\n",
    "        )\n",
    "\n",
    "        # Convert tensors to numpy arrays for saving\n",
    "        results_to_save = {k: v.numpy() if isinstance(v, tf.Tensor) else v for k, v in results.items()}\n",
    "\n",
    "        # Save the dict\n",
    "        with open(f'../data/results_sherrington_kirkpatrick_2d_gaussian_{sweep_length}.pkl', 'wb') as f:\n",
    "            pickle.dump(results_to_save, f)\n",
    "\n",
    "        break\n",
    "\n",
    "    except Exception as e:\n",
    "        print(f\"Error: {e}\")\n",
    "        retry += 1"
   ]
  },
  {
   "cell_type": "code",
   "execution_count": null,
   "id": "c9d567ea",
   "metadata": {},
   "outputs": [
    {
     "data": {
      "application/vnd.plotly.v1+json": {
       "config": {
        "plotlyServerURL": "https://plot.ly"
       },
       "data": [
        {
         "colorscale": [
          [
           0,
           "rgb(103,0,31)"
          ],
          [
           0.1,
           "rgb(178,24,43)"
          ],
          [
           0.2,
           "rgb(214,96,77)"
          ],
          [
           0.3,
           "rgb(244,165,130)"
          ],
          [
           0.4,
           "rgb(253,219,199)"
          ],
          [
           0.5,
           "rgb(247,247,247)"
          ],
          [
           0.6,
           "rgb(209,229,240)"
          ],
          [
           0.7,
           "rgb(146,197,222)"
          ],
          [
           0.8,
           "rgb(67,147,195)"
          ],
          [
           0.9,
           "rgb(33,102,172)"
          ],
          [
           1,
           "rgb(5,48,97)"
          ]
         ],
         "type": "heatmap",
         "z": {
          "bdata": "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",
          "dtype": "f4",
          "shape": "32, 32"
         },
         "zmax": 1,
         "zmin": -1
        }
       ],
       "frames": [
        {
         "data": [
          {
           "colorscale": [
            [
             0,
             "rgb(103,0,31)"
            ],
            [
             0.1,
             "rgb(178,24,43)"
            ],
            [
             0.2,
             "rgb(214,96,77)"
            ],
            [
             0.3,
             "rgb(244,165,130)"
            ],
            [
             0.4,
             "rgb(253,219,199)"
            ],
            [
             0.5,
             "rgb(247,247,247)"
            ],
            [
             0.6,
             "rgb(209,229,240)"
            ],
            [
             0.7,
             "rgb(146,197,222)"
            ],
            [
             0.8,
             "rgb(67,147,195)"
            ],
            [
             0.9,
             "rgb(33,102,172)"
            ],
            [
             1,
             "rgb(5,48,97)"
            ]
           ],
           "type": "heatmap",
           "z": {
            "bdata": "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",
            "dtype": "f4",
            "shape": "32, 32"
           },
           "zmax": 1,
           "zmin": -1
          }
         ],
         "name": "0"
        },
        {
         "data": [
          {
           "colorscale": [
            [
             0,
             "rgb(103,0,31)"
            ],
            [
             0.1,
             "rgb(178,24,43)"
            ],
            [
             0.2,
             "rgb(214,96,77)"
            ],
            [
             0.3,
             "rgb(244,165,130)"
            ],
            [
             0.4,
             "rgb(253,219,199)"
            ],
            [
             0.5,
             "rgb(247,247,247)"
            ],
            [
             0.6,
             "rgb(209,229,240)"
            ],
            [
             0.7,
             "rgb(146,197,222)"
            ],
            [
             0.8,
             "rgb(67,147,195)"
            ],
            [
             0.9,
             "rgb(33,102,172)"
            ],
            [
             1,
             "rgb(5,48,97)"
            ]
           ],
           "type": "heatmap",
           "z": {
            "bdata": "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",
            "dtype": "f4",
            "shape": "32, 32"
           },
           "zmax": 1,
           "zmin": -1
          }
         ],
         "name": "1"
        },
        {
         "data": [
          {
           "colorscale": [
            [
             0,
             "rgb(103,0,31)"
            ],
            [
             0.1,
             "rgb(178,24,43)"
            ],
            [
             0.2,
             "rgb(214,96,77)"
            ],
            [
             0.3,
             "rgb(244,165,130)"
            ],
            [
             0.4,
             "rgb(253,219,199)"
            ],
            [
             0.5,
             "rgb(247,247,247)"
            ],
            [
             0.6,
             "rgb(209,229,240)"
            ],
            [
             0.7,
             "rgb(146,197,222)"
            ],
            [
             0.8,
             "rgb(67,147,195)"
            ],
            [
             0.9,
             "rgb(33,102,172)"
            ],
            [
             1,
             "rgb(5,48,97)"
            ]
           ],
           "type": "heatmap",
           "z": {
            "bdata": "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",
            "dtype": "f4",
            "shape": "32, 32"
           },
           "zmax": 1,
           "zmin": -1
          }
         ],
         "name": "2"
        },
        {
         "data": [
          {
           "colorscale": [
            [
             0,
             "rgb(103,0,31)"
            ],
            [
             0.1,
             "rgb(178,24,43)"
            ],
            [
             0.2,
             "rgb(214,96,77)"
            ],
            [
             0.3,
             "rgb(244,165,130)"
            ],
            [
             0.4,
             "rgb(253,219,199)"
            ],
            [
             0.5,
             "rgb(247,247,247)"
            ],
            [
             0.6,
             "rgb(209,229,240)"
            ],
            [
             0.7,
             "rgb(146,197,222)"
            ],
            [
             0.8,
             "rgb(67,147,195)"
            ],
            [
             0.9,
             "rgb(33,102,172)"
            ],
            [
             1,
             "rgb(5,48,97)"
            ]
           ],
           "type": "heatmap",
           "z": {
            "bdata": "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",
            "dtype": "f4",
            "shape": "32, 32"
           },
           "zmax": 1,
           "zmin": -1
          }
         ],
         "name": "3"
        },
        {
         "data": [
          {
           "colorscale": [
            [
             0,
             "rgb(103,0,31)"
            ],
            [
             0.1,
             "rgb(178,24,43)"
            ],
            [
             0.2,
             "rgb(214,96,77)"
            ],
            [
             0.3,
             "rgb(244,165,130)"
            ],
            [
             0.4,
             "rgb(253,219,199)"
            ],
            [
             0.5,
             "rgb(247,247,247)"
            ],
            [
             0.6,
             "rgb(209,229,240)"
            ],
            [
             0.7,
             "rgb(146,197,222)"
            ],
            [
             0.8,
             "rgb(67,147,195)"
            ],
            [
             0.9,
             "rgb(33,102,172)"
            ],
            [
             1,
             "rgb(5,48,97)"
            ]
           ],
           "type": "heatmap",
           "z": {
            "bdata": "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",
            "dtype": "f4",
            "shape": "32, 32"
           },
           "zmax": 1,
           "zmin": -1
          }
         ],
         "name": "4"
        },
        {
         "data": [
          {
           "colorscale": [
            [
             0,
             "rgb(103,0,31)"
            ],
            [
             0.1,
             "rgb(178,24,43)"
            ],
            [
             0.2,
             "rgb(214,96,77)"
            ],
            [
             0.3,
             "rgb(244,165,130)"
            ],
            [
             0.4,
             "rgb(253,219,199)"
            ],
            [
             0.5,
             "rgb(247,247,247)"
            ],
            [
             0.6,
             "rgb(209,229,240)"
            ],
            [
             0.7,
             "rgb(146,197,222)"
            ],
            [
             0.8,
             "rgb(67,147,195)"
            ],
            [
             0.9,
             "rgb(33,102,172)"
            ],
            [
             1,
             "rgb(5,48,97)"
            ]
           ],
           "type": "heatmap",
           "z": {
            "bdata": "o3WAP4w66rxsVjY8qvmTPBLyj7wUulK9GvtqPNdNMj1tHW49yodVvWw+Ib2cm4+8D/PjvAahqDwNd4K8XzcpvO9GJzx+zna9gfQBvOwGLDx6xd67Ozx1vVDzHryaAiy9u9SrPMTFZr25RfK8oEO/vPzdOzxUpl49OaRkPYDYM72MOuq8QXWAPynWKjwH1ju8Ak+DvBSZBb174Mi73uAevf7yBb2cF5k8P41DvWiNSTyZOJ+68Uy0PHX1hrxImp28HdrdPLzvNDyqjX08tppYvZmKer2bTxm9wOKavA5Vnjsu2iM6cDrYvJ6icTsle/I8mvG7vNbdU7xIKg48Sws3PGxWNjwp1io8MXWAP00hZbvG2CQ8mqlsvAICqjydCQs8JMxjPK6wpj3zQ7o85NRIvNQCdLxQgzc9A3wqvTLjBT0ajq88jtBLPLqUEL0c3N25Wt8evOoz0Tyyyj08EtE8PN7TbboGyC29Jb7+vLD8Lb2Q4Fk8cow5PWizRzv6fUU8qvmTPAfWO7xNIWW7MXaAP5jgIL0sO0o8nIwPvdI3YzyIe4s8hMNevQjAKj279yA9prvBO6y85LzIeEY9RNXbu2hZg7yFeS88Ix0QvNTcSbyebS69gyvyPN5wCT3hq1S93ziau0RkW7xwOHc5/lCXvW0Wnj15IpK78ygcvefblzsS8o+8Ak+DvMbYJDyY4CC96XaAPzNtTTzuO8Q8vRGSu/NqqTs4hnC9I/G/vExJzTxYwA26BMTfvNeGTzyywjq8u9OzvO4YHT0crhW78SnxPJDcdLzg84E6ZNMxvNjz9jrabtG7dCWaPPDFOD1Uiiq71UV/PI4hFb0Sdvi7bXk+PRS6Ur0UmQW9mqlsvCw7SjwzbU08UHaAP97Nx7x8VTQ9UJs5vCtcyjysi/W8MkswPARvZ7zSt4K80KLsu/orPLskLaa8Du/OO8xyoLxy5o281EomPFAo+rzvAgu9NxKxPTBIzjxeIbw7u/2wPGbhzbvkqS+8c6livB4OYbz4wpQ9GvtqPHvgyLsCAqo8nIwPve47xDzezce8XnWAP4KZybxqbFq9/QPgvC+enrwjS867RYkVO6PAaLvi6R48Jc7zvFyKS73KUga8f9uFPGE57jyS7JS8mM+ju+ri4Lyuh5o9WHSsPLeGvjyzbRc80mNCPcjy+LzFH1E8rrPRvA1IQr3XTTI93uAevZ0JCzzSN2M8vRGSu3xVND2Cmcm8YXaAP6JrVbyP0ce8BFRkPcJyDr10pgk9HBFMvNs4kD1zchE9V1AdveINtTwq4YA8eaMvvRj8XDqRnm87mhMivD+3Wjx4k1M98PR8OxKTF73PfE+8Az0cPbdb7zzyLfQ8F0SBvG0dbj3+8gW9JMxjPIh7izzzaqk7UJs5vGpsWr2ia1W86HaAPwDBEj0AKeg3hHN7OtmQwTrDjBo90CNAOejhXLok4Ri951LzvILu3Dxz4UA94l9FvSiZnzw1pVM9YnHjPIcbTTqZ3uM8bezKPBQLaDz6UFA90ocNO/MYDj04hVQ9yodVvZwXmTyusKY9hMNevTiGcL0rXMo8/QPgvI/Rx7wAwRI9D3aAP7zJzjyJZyK9nRQYvJW+vrxKDMq8zgTtPEsywrzZViC9tFqYvJB6Nbo7ZIk83KN+O+NdcTya4xW9YkW4PLytIb2CXFA9x8WnPHD3HDuHL5y9+AeaPOC3w7xsPiG9P41DvfNDujwIwCo9I/G/vKyL9bwvnp68BFRkPQAp6De8yc48JXaAPy5r5DzsRpk9hQQvPMhsHb3Y5mC7PodIvdCJoj2+R8Y7ciQUPamxoDwsnLc7LZT4PBZHAD0T0MS7CrfxvIh2g7vFr6I8CA0NvEYK/7w2wf88HCoXPZybj7xojUk85NRIvLv3ID1MSc08MkswPCNLzrvCcg69hHN7OolnIr0ua+Q81XaAP1CeSz1ghn08DTMVvcqRlDyFAAo8n0nOPChpmDyQzBs9B5MxvQiTZLw6vTi8C+JcPZaSvTwLd0y8ohCBPAqjhD080xU7lVftPOb99Tz7PyW9D/PjvJk4n7rUAnS8prvBO1jADboEb2e8RYkVO3SmCT3ZkME6nRQYvOxGmT1Qnks9lHeAPzbhPD2eqRW90BC1OyRtGL1iUMc9Fo0BvX6FN7zC0jQ9i0BVPRzeDjxPPw89ZIaKOwEFVDy7KQM9vzA5vahudrqwJZ67voVxvEi/yLwGoag88Uy0PFCDNz2svOS8BMTfvNK3gryjwGi7HBFMvMOMGj2Vvr68hQQvPGCGfTw24Tw97HaAPwIoGjvKGJU9UYhRvcTAH7tZDR49Kt43vV8QBr0LJZs8eNNtvDTQ0Dwfexy93opuvDNPyLwRQLs7qshGvX+nNz1kvSg7MMwGvQ13grx19Ya8A3wqvch4Rj3Xhk880KLsu+LpHjzbOJA90CNAOUoMyrzIbB29DTMVvZ6pFb0CKBo7xnWAP3qlm7yIRqS7I6AQPNXSa73OzHA8q2Mbuy/1Zj0C8DI9FufgO6mfHb2yqY486m6Hu2QCgryxuBs9675XvPZyC7zVxvg8XzcpvEianbwy4wU9RNXbu7LCOrz6Kzy7Jc7zvHNyET3o4Vy6zgTtPNjmYLvKkZQ80BC1O8oYlT16pZu82neAP0hK8rwdnbW8XovdPE9hTb2yKWo9MKG+OzennLzageE8kF6MPDxMxTzM/PW8/nXDu9W7ML1Ee+s8ow7gvKV8YrzvRic8HdrdPBqOrzxoWYO8u9OzvCQtprxciku9V1AdvSThGL1LMsK8PodIvYUACjwkbRi9UYhRvYhGpLtISvK86naAP6a74rxw51q9+2ijvCLFxrtTES88Crh/PHp8mrsdkUa9GpS4vHpKmrz44ts8kP8nOrQS97sEz868S9jZu37Odr287zQ8jtBLPIV5LzzuGB09Du/OO8pSBrziDbU851LzvNlWIL3QiaI9n0nOPGJQxz3EwB+7I6AQPB2dtbymu+K8bnaAP/A0Sj0ceBA9hZ4vvXRfOzrWNVy8TziqvAi2qrpmOQK89Gn2O8XASb0sxuO8EHAgO35rvb0ycq48gfQBvKqNfTy6lBC9Ix0QvByuFbvMcqC8f9uFPCrhgDyC7tw8tFqYvL5HxjsoaZg8Fo0BvVkNHj3V0mu9XovdPHDnWr3wNEo9RXaAP1Inhb0XoSe8/A7QvD/4iDzWuIE8NFXEvGIJ8jyQJm+97UgFPRvPwDxXt2w8FbekvKKHlDvsBiw8tppYvRzc3bnU3Em88SnxPHLmjbxhOe48eaMvvXPhQD2QejW6ciQUPZDMGz1+hTe8Kt43vc7McDxPYU29+2ijvBx4ED1SJ4W9m3aAP5Kt/bzGHAq9DZCXvFItPLwQVZI9eJfxPJpvrTxT94i9vP4UvGjn3TxHJV+8ZCIjvHrF3ruZinq9Wt8evJ5tLr2Q3HS81EomPJLslLwY/Fw64l9FvTtkiTypsaA8B5MxvcLSND1fEAa9q2Mbu7Ipaj0ixca7hZ4vvRehJ7ySrf284XeAPyhqjDxVcWa9TOQMPOuOrrwVvAi8bhARvXMbM73YFYa7sLSRO+zSWjsMbMu8Ozx1vZtPGb3qM9E8gyvyPODzgTpQKPq8mM+ju5GebzsomZ883KN+OyyctzsIk2S8i0BVPQslmzwv9WY9MKG+O1MRLzx0Xzs6/A7QvMYcCr0oaow8Q3aAP2kzmjwPD/E8MBlLvHLueLvklVw8rxbDPCx+xjwoM5U8SeOBvK4qKr1Q8x68wOKavLLKPTzecAk9ZNMxvO8CC73q4uC8mhMivDWlUz3jXXE8LZT4PDq9OLwc3g48eNNtvALwMj03p5y8Crh/PNY1XLw/+Ig8DZCXvFVxZr1pM5o8gXSAP3M2p7yzHZ29hZ3ivLTCabv9i447MH46PfvXiD1bT5o8krFgvJoCLL0OVZ47EtE8POGrVL3Y8/Y6NxKxPa6Hmj0/t1o8YnHjPJrjFb0WRwA9C+JcPU8/Dz000NA8FufgO9qB4Tx6fJq7TziqvNa4gTxSLTy8TOQMPA8P8TxzNqe8rHaAPzzvvzrCwsk8bR8HvWPmub1zH+68i5edPIGiQD386AK9u9SrPC7aIzre02263ziau9pu0bswSM48WHSsPHiTUz2HG006YkW4PBPQxLuWkr08ZIaKOx97HL2pnx29kF6MPB2RRr0Itqq6NFXEvBBVkj3rjq68MBlLvLMdnb08778693aAP3Y9o7zVJLg8ysyzvIN6tzy//oo8XhoovU/VDL3ExWa9cDrYvAbILb1EZFu8dCWaPF4hvDu3hr488PR8O5ne4zy8rSG9CrfxvAt3TLwBBVQ83opuvLKpjjw8TMU8GpS4vGY5ArxiCfI8eJfxPBW8CLxy7ni7hZ3ivMLCyTx2PaO8aXWAP+CZKTsNp3g9xSuEPBhW/7yXqyU9zBwCurlF8ryeonE7Jb7+vHA4dznwxTg9u/2wPLNtFzwSkxe9bezKPIJcUD2IdoO7ohCBPLspAz0zT8i86m6Hu8z89bx6Spq89Gn2O5Amb72ab608bhARveSVXDy0wmm7bR8HvdUkuDzgmSk7GneAPzmxCLx6Z3a8wa4TPUwNHz1y2PK8oEO/vCV78jyw/C29/lCXvVSKKrtm4c270mNCPc98T7wUC2g8x8WnPMWvojwKo4Q9vzA5vRFAuztkAoK8/nXDu/ji2zzFwEm97UgFPVP3iL1zGzO9rxbDPP2Ljjtj5rm9ysyzvA2neD05sQi8DneAP7TGBD3ggtm8kEF2PGKWjr383Ts8mvG7vJDgWTxtFp491UV/POSpL7zI8vi8Az0cPfpQUD1w9xw7CA0NvDzTFTuobna6qshGvbG4Gz3VuzC9kP8nOizG47wbz8A8vP4UvNgVhrssfsY8MH46PXMf7ryDerc8xSuEPHpndry0xgQ9EHaAP8tiMz1AJY66DE0gvVSmXj3W3VO8cow5PXkikruOIRW9c6livMUfUTy3W+880ocNO4cvnL1GCv+8lVftPLAlnrt/pzc9675XvER76zy0Eve7EHAgO1e3bDxo5908sLSROygzlTz714g9i5edPL/+ijwYVv+8wa4TPeCC2bzLYjM9hHeAPxswNz3Uqi48OaRkPUgqDjxos0c78ygcvRJ2+LseDmG8rrPRvPIt9DzzGA49+AeaPDbB/zzm/fU8voVxvGS9KDv2cgu8ow7gvATPzrx+a729FbekvEclX7zs0lo7SeOBvFtPmjyBokA9XhoovZerJT1MDR89kEF2PEAljrobMDc9nXWAP/BFRbqA2DO9Sws3PPp9RTzn25c7bXk+PfjClD0NSEK9F0SBvDiFVD3gt8O8HCoXPfs/Jb1Iv8i8MMwGvdXG+DylfGK8S9jZuzJyrjyih5Q7ZCIjvAxsy7yuKiq9krFgvPzoAr1P1Qy9zBwCunLY8rxilo69DE0gvdSqLjzwRUW6I3WAPw==",
            "dtype": "f4",
            "shape": "32, 32"
           },
           "zmax": 1,
           "zmin": -1
          }
         ],
         "name": "5"
        },
        {
         "data": [
          {
           "colorscale": [
            [
             0,
             "rgb(103,0,31)"
            ],
            [
             0.1,
             "rgb(178,24,43)"
            ],
            [
             0.2,
             "rgb(214,96,77)"
            ],
            [
             0.3,
             "rgb(244,165,130)"
            ],
            [
             0.4,
             "rgb(253,219,199)"
            ],
            [
             0.5,
             "rgb(247,247,247)"
            ],
            [
             0.6,
             "rgb(209,229,240)"
            ],
            [
             0.7,
             "rgb(146,197,222)"
            ],
            [
             0.8,
             "rgb(67,147,195)"
            ],
            [
             0.9,
             "rgb(33,102,172)"
            ],
            [
             1,
             "rgb(5,48,97)"
            ]
           ],
           "type": "heatmap",
           "z": {
            "bdata": "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",
            "dtype": "f4",
            "shape": "32, 32"
           },
           "zmax": 1,
           "zmin": -1
          }
         ],
         "name": "6"
        },
        {
         "data": [
          {
           "colorscale": [
            [
             0,
             "rgb(103,0,31)"
            ],
            [
             0.1,
             "rgb(178,24,43)"
            ],
            [
             0.2,
             "rgb(214,96,77)"
            ],
            [
             0.3,
             "rgb(244,165,130)"
            ],
            [
             0.4,
             "rgb(253,219,199)"
            ],
            [
             0.5,
             "rgb(247,247,247)"
            ],
            [
             0.6,
             "rgb(209,229,240)"
            ],
            [
             0.7,
             "rgb(146,197,222)"
            ],
            [
             0.8,
             "rgb(67,147,195)"
            ],
            [
             0.9,
             "rgb(33,102,172)"
            ],
            [
             1,
             "rgb(5,48,97)"
            ]
           ],
           "type": "heatmap",
           "z": {
            "bdata": "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",
            "dtype": "f4",
            "shape": "32, 32"
           },
           "zmax": 1,
           "zmin": -1
          }
         ],
         "name": "7"
        },
        {
         "data": [
          {
           "colorscale": [
            [
             0,
             "rgb(103,0,31)"
            ],
            [
             0.1,
             "rgb(178,24,43)"
            ],
            [
             0.2,
             "rgb(214,96,77)"
            ],
            [
             0.3,
             "rgb(244,165,130)"
            ],
            [
             0.4,
             "rgb(253,219,199)"
            ],
            [
             0.5,
             "rgb(247,247,247)"
            ],
            [
             0.6,
             "rgb(209,229,240)"
            ],
            [
             0.7,
             "rgb(146,197,222)"
            ],
            [
             0.8,
             "rgb(67,147,195)"
            ],
            [
             0.9,
             "rgb(33,102,172)"
            ],
            [
             1,
             "rgb(5,48,97)"
            ]
           ],
           "type": "heatmap",
           "z": {
            "bdata": "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",
            "dtype": "f4",
            "shape": "32, 32"
           },
           "zmax": 1,
           "zmin": -1
          }
         ],
         "name": "8"
        },
        {
         "data": [
          {
           "colorscale": [
            [
             0,
             "rgb(103,0,31)"
            ],
            [
             0.1,
             "rgb(178,24,43)"
            ],
            [
             0.2,
             "rgb(214,96,77)"
            ],
            [
             0.3,
             "rgb(244,165,130)"
            ],
            [
             0.4,
             "rgb(253,219,199)"
            ],
            [
             0.5,
             "rgb(247,247,247)"
            ],
            [
             0.6,
             "rgb(209,229,240)"
            ],
            [
             0.7,
             "rgb(146,197,222)"
            ],
            [
             0.8,
             "rgb(67,147,195)"
            ],
            [
             0.9,
             "rgb(33,102,172)"
            ],
            [
             1,
             "rgb(5,48,97)"
            ]
           ],
           "type": "heatmap",
           "z": {
            "bdata": "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",
            "dtype": "f4",
            "shape": "32, 32"
           },
           "zmax": 1,
           "zmin": -1
          }
         ],
         "name": "9"
        },
        {
         "data": [
          {
           "colorscale": [
            [
             0,
             "rgb(103,0,31)"
            ],
            [
             0.1,
             "rgb(178,24,43)"
            ],
            [
             0.2,
             "rgb(214,96,77)"
            ],
            [
             0.3,
             "rgb(244,165,130)"
            ],
            [
             0.4,
             "rgb(253,219,199)"
            ],
            [
             0.5,
             "rgb(247,247,247)"
            ],
            [
             0.6,
             "rgb(209,229,240)"
            ],
            [
             0.7,
             "rgb(146,197,222)"
            ],
            [
             0.8,
             "rgb(67,147,195)"
            ],
            [
             0.9,
             "rgb(33,102,172)"
            ],
            [
             1,
             "rgb(5,48,97)"
            ]
           ],
           "type": "heatmap",
           "z": {
            "bdata": "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",
            "dtype": "f4",
            "shape": "32, 32"
           },
           "zmax": 1,
           "zmin": -1
          }
         ],
         "name": "10"
        },
        {
         "data": [
          {
           "colorscale": [
            [
             0,
             "rgb(103,0,31)"
            ],
            [
             0.1,
             "rgb(178,24,43)"
            ],
            [
             0.2,
             "rgb(214,96,77)"
            ],
            [
             0.3,
             "rgb(244,165,130)"
            ],
            [
             0.4,
             "rgb(253,219,199)"
            ],
            [
             0.5,
             "rgb(247,247,247)"
            ],
            [
             0.6,
             "rgb(209,229,240)"
            ],
            [
             0.7,
             "rgb(146,197,222)"
            ],
            [
             0.8,
             "rgb(67,147,195)"
            ],
            [
             0.9,
             "rgb(33,102,172)"
            ],
            [
             1,
             "rgb(5,48,97)"
            ]
           ],
           "type": "heatmap",
           "z": {
            "bdata": "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",
            "dtype": "f4",
            "shape": "32, 32"
           },
           "zmax": 1,
           "zmin": -1
          }
         ],
         "name": "11"
        },
        {
         "data": [
          {
           "colorscale": [
            [
             0,
             "rgb(103,0,31)"
            ],
            [
             0.1,
             "rgb(178,24,43)"
            ],
            [
             0.2,
             "rgb(214,96,77)"
            ],
            [
             0.3,
             "rgb(244,165,130)"
            ],
            [
             0.4,
             "rgb(253,219,199)"
            ],
            [
             0.5,
             "rgb(247,247,247)"
            ],
            [
             0.6,
             "rgb(209,229,240)"
            ],
            [
             0.7,
             "rgb(146,197,222)"
            ],
            [
             0.8,
             "rgb(67,147,195)"
            ],
            [
             0.9,
             "rgb(33,102,172)"
            ],
            [
             1,
             "rgb(5,48,97)"
            ]
           ],
           "type": "heatmap",
           "z": {
            "bdata": "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",
            "dtype": "f4",
            "shape": "32, 32"
           },
           "zmax": 1,
           "zmin": -1
          }
         ],
         "name": "12"
        },
        {
         "data": [
          {
           "colorscale": [
            [
             0,
             "rgb(103,0,31)"
            ],
            [
             0.1,
             "rgb(178,24,43)"
            ],
            [
             0.2,
             "rgb(214,96,77)"
            ],
            [
             0.3,
             "rgb(244,165,130)"
            ],
            [
             0.4,
             "rgb(253,219,199)"
            ],
            [
             0.5,
             "rgb(247,247,247)"
            ],
            [
             0.6,
             "rgb(209,229,240)"
            ],
            [
             0.7,
             "rgb(146,197,222)"
            ],
            [
             0.8,
             "rgb(67,147,195)"
            ],
            [
             0.9,
             "rgb(33,102,172)"
            ],
            [
             1,
             "rgb(5,48,97)"
            ]
           ],
           "type": "heatmap",
           "z": {
            "bdata": "b3aAP9w7mjzJaEU8XZkUPRCi8ryN6+G8FS28PAQXwzxUNNK87lk3vCy89TokBJ68ql4Rvbxfpbz4HUI9VOQcPY4JgrtOxyc9r8qPPei+MTwKGvk73zBZPZm3ULwkwLq8GkvDO3nQCL2T7sK8UM9HPPZXszz4tUU8kRaEPM/NG73cO5o8PXaAP3BQQT1+wOI8rqiOvNyvED32Asw8jNtWvCc1Cr2f5xu88q9QPEq5CD0EQVa85ImEvCS+frtk7r27TMMAvcDJzjx1Dso8U8asPDD4Lbwybf48z2RevMKi57w5N4i9W5yjPBaAjrts0Hg8nkQ4vfN3NDw8u8+7rZrtu8loRTxwUEE9iHaAP+ganbyXdJc7qtTsvD16mjzCWvG8tmYtPTRspTsPkrC8W+p6PWxKejyJSyW80JHVut3LTLydZPG8TKzQO8o/4DzKUSK9FXP6POTyRbuoT6o8xg0HveIO0DzKHQO9PRbOvJ29OTy7lwQ9yzjxu+CqsbxC/1i8XZkUPX7A4jzoGp2893aAP9qH2TzH0A09/s+IvNJgLr1cskK8p2amPMcdN73af4W8Oz10PdEhrzxbRV477vsXPJ9aIb0pTTC9fgnmvI1g97zyf4k8dSKCPfY/N7zS/8E8kvknPQAASzSlFl68hufSvFUvrryNvd07nn3nvG62fjsQovK8rqiOvJd0lzvah9k8SHeAPzkDWDxQDVC6cwEdvTTTHrzPCwk9E0EpvMAsSbyHDdW6bDfIvPbLjTy12Qw8VB+RvLY2ojwATT+9TlgpvY3LiLxc/Q68pkIiPMiFKb3aSNS81sy7PMJ6dT0e1k28nVAtvB3ZMbzK0RQ9qaI8vI3r4bzcrxA9qtTsvMfQDT05A1g8AXaAP16aJDxSIoy8Ik8EPeS6G73jFwG8PrFkvbC1cDrGxQe98hXMO0AzF7vtngI9DHpBPdaPbbz6bOk8hq6zvNTq1jzMVMe8wI5Tu9yE57wfZq08SmcBvT5HvTsu38I8LY63POZjIrs8O6G9FS28PPYCzDw9epo8/s+IvFANULpemiQ8XnaAP8y5HD3EBFA7YH2AvPy35jyeUak8D2mMPIpMnLvEo5y8hsJsvc8eQDyOESs9JIozu7LpMT3CUyu9/juHPDQDnz2XQ4A8JjrrvAkjGT1hecy8akvhPNOvSb2YPhS9ngH7PNZmMT0EF8M8jNtWvMJa8bzSYC69cwEdvVIijLzMuRw90naAP784wbuNs2+9t/fMPIhdsLvwKJw9gEewPMwBwbyada691tgevBIP6jyGxfs78bN/vTGCCL1TA4s8Z6BxPEj/vDzeG4q7QiIePWHxizyrD4y8WjMLPJxw5rvhyju8oaZDPFQ00rwnNQq9tmYtPVyyQrw00x68Ik8EPcQEUDu/OMG74XSAP8v4ujwBr/c7UYxwvTjF1LwykKM7Xz04O078wjyHw0E9e/4lvM5e3LwqMCQ9IiFVPOP70rocRCY8vJUhvCpNozyRWwI9kGaNOTBKOz0nV6a9WL9QvYJ0Hj1snz497lk3vJ/nG7w0bKU7p2amPM8LCT3kuhu9YH2AvI2zb73L+Lo8X3WAP+U4MD38ZUo8uCn2vD9UsjwuKly9g1/BvCs87Dw6nMO6qrPsu59397t1uQC8BWztvLdQhztKceS89qSMvOMTujzcByS9Cd7xvNVhKz0OIoM8HvaBPcnoPr0svPU68q9QPA+SsLzHHTe9E0EpvOMXAbz8t+Y8t/fMPAGv9zvlODA92naAP0jyx7yzVhK9d5YBPQ0dRr1wRbi6XyxduzIUKD23Cfa8RUETPExYoDtnUZ+7qYCgvIJFfLxAoks5ABpFOUSmEb2sl+A62St0vTQZBz1AkQo6n+FoPSQEnrxKuQg9W+p6Pdp/hbzALEm8PrFkvZ5RqTyIXbC7UYxwvfxlSjxI8se813WAP0ntnryh58w8eH5BOg4L47w5G1G9aSm+O8APFTqipHQ78utOPKoOvDsKQFa9GeCbPBdqOjyjQv88c8lju7fdKLxIBf07/qv6PIiu6zusSR48ql4RvQRBVrxsSno8Oz10PYcN1bqwtXA6D2mMPPAonD04xdS8uCn2vLNWEr1J7Z68tHaAP2kCRz3BehW9YC55u29HX71cOco7wJFvvHGPRDzDym+9xGauPO6nabzKnQY90nMOPXGLeT1iPDA9v3qmPJXrfzuohu273hSOvB55szu8X6W85ImEvIlLJbzRIa88bDfIvMbFB72KTJy7gEewPDKQozs/VLI8d5YBPaHnzDxpAkc9lnSAP8RmwryIDA073aM7POrR2bzRVS4852iJPKDr0Ttdbgs9zhrXPHolNj1YkQ29u/+Ku/A7kDtbsx09UYS8PL/qXb3gsFA8/gMhPfgdQj0kvn670JHVultFXjv2y4088hXMO8SjnLzMAcG8Xz04Oy4qXL0NHUa9eH5BOsF6Fb3EZsK8vnaAP1rPzDs3Do083GWpu/a5LruSa1688H5xOhZbQjyDYlU9lmARvDDtELrYW6o7CPWEvM4imL3tXww9Ykssu8DUhzsmmpo7VOQcPWTuvbvdy0y87vsXPLXZDDxAMxe7hsJsvZp1rr1O/MI8g1/BvHBFuLoOC+O8YC55u4gMDTtaz8w7KnaAPx7qWTyyzkU9HkSQOyZ0QzvEwhG9pW3yPHDq/7sGOuy8pHitPZitCz3GsXE7wokVPW9SWLz2xnC7oJdgOZIlJTyOCYK7TMMAvZ1k8byfWiG9VB+RvO2eAj3PHkA81tgevIfDQT0rPOw8XyxduzkbUb1vR1+93aM7PDcOjTwe6lk8ZXaAP0itPT1hHGq7enmLO5QhR7zh3zM8GVGGO0BImzuc6vu64oGhu5jgIrqIvPw7kr4kPVtG0TyT2kM9aReNuk7HJz3Ayc48TKzQOylNML22NqI8DHpBPY4RKz0SD+o8e/4lvDqcw7oyFCg9aSm+O1w5yjvq0dm83GWpu7LORT1IrT09xnWAP6KOULx1DCe8h92evRLqN72mSRe9LL85vY6f8ryeHTY8k4DtPPBxUbxgQrK7oqEhO2DG/zxgFSS9r8qPPXUOyjzKP+A8fgnmvABNP73Wj228JIozu4bF+zvOXty8qrPsu7cJ9rzADxU6wJFvvNFVLjz2uS67HkSQO2EcaruijlC81HeAP08wDj28Z6M8xifLvNRQizxzsg49SjYfPMmiUz1c2608JlvhvNk8HDyUCCK89vwYu1A3ArvovjE8U8asPMpRIr2NYPe8Tlgpvfps6Tyy6TE98bN/vSowJD2fd/e7RUETPKKkdDtxj0Q852iJPJJrXrwmdEM7enmLO3UMJ7xPMA497naAPynxdLxA0WM9yIKMvGgjOz3JBGm8QFWEu7kQC71+EZ49jYAmvKNVxbu6M728/XLKvAoa+Tsw+C28FXP6PPJ/iTyNy4i8hq6zvMJTK70xggi9IiFVPHW5ALxMWKA78utOPMPKb72g69E78H5xOsTCEb2UIUe8h92evbxnozwp8XS8hHaAP5VzrLxaTfI8XPWQPDCndL3AK206acsovd0lFb1sq0M8nTWiPJwKvLx948083zBZPTJt/jzk8kW7dSKCPVz9DrzU6tY8/juHPFMDizzj+9K6BWztvGdRn7uqDrw7xGauPF1uCz0WW0I8pW3yPOHfMzwS6je9xifLvEDRYz2Vc6y8NnaAP8lsybxR9QQ8DJAmOzSQEj2MsDm9SAC8PPSyjLvy5UI88k4IPf1QJT2Zt1C8z2RevKhPqjz2Pze8pkIiPMxUx7w0A589Z6BxPBxEJjy3UIc7qYCgvApAVr3up2m8zhrXPINiVT1w6v+7GVGGO6ZJF73UUIs8yIKMvFpN8jzJbMm8VHaAPzyMgzxNv5S8J2FYPP0qkzxukL68Okrou+aeqbzqtQU9biypvCTAurzCoue8xg0HvdL/wTzIhSm9wI5Tu5dDgDxI/7w8vJUhvEpx5LyCRXy8GeCbPMqdBj16JTY9lmARvAY67LxASJs7LL85vXOyDj1oIzs9XPWQPFH1BDw8jIM82naAP6BK6jthNIy8nmhDve99sjzpMRG8DvTaPBvILj2cPaI7GkvDOzk3iL3iDtA8kvknPdpI1LzchOe8JjrrvN4birsqTaM89qSMvECiSzkXajo80nMOPViRDb0w7RC6pHitPZzq+7qOn/K8SjYfPMkEabwwp3S9DJAmO02/lLygSuo7P3aAPw3DBz0sUa68+leFve1Tbjz4iw29ysMnPIzDij150Ai9W5yjPModA70AAEs01sy7PB9mrTwJIxk9QiIePZFbAj3jE7o8ABpFOaNC/zxxi3k9u/+Ku9hbqjuYrQs94oGhu54dNjzJolM9QFWEu8ArbTo0kBI9J2FYPGE0jLwNwwc9THaAP24CUr0/ioA9WJQdPHyLJT1bFJA8IGIXPJPuwrwWgI67PRbOvKUWXrzCenU9SmcBvWF5zLxh8Ys8kGaNOdwHJL1EphG9c8lju2I8MD3wO5A7CPWEvMaxcTuY4CK6k4DtPFzbrTy5EAu9acsovYywOb39KpM8nmhDvSxRrrxuAlK9QHaAP4ctgzyqC8U8r+EMu5SsIbuKNIu8UM9HPGzQeDydvTk8hufSvB7WTbw+R707akvhPKsPjLwwSjs9Cd7xvKyX4Dq33Si8v3qmPFuzHT3OIpi9wokVPYi8/DvwcVG8JlvhvH4Rnj3dJRW9SAC8PG6QvrzvfbI8+leFvT+KgD2HLYM8gnWAP1T5xjsE3wu9WAn+ukHbwjz2V7M8nkQ4vbuXBD1VL668nVAtvC7fwjzTr0m9WjMLPCdXpr3VYSs92St0vUgF/TuV6387UYS8PO1fDD1vUli8kr4kPWBCsrvZPBw8jYAmvGyrQzz0soy7Okrou+kxEbztU248WJQdPKoLxTxU+cY7qXaAP/KfiT3AOrI5X2fku/i1RTzzdzQ8yzjxu4293Tsd2TG8LY63PJg+FL2ccOa7WL9QvQ4igzw0GQc9/qv6PKiG7bu/6l29Ykssu/bGcLtbRtE8oqEhO5QIIryjVcW7nTWiPPLlQjzmnqm8DvTaPPiLDb18iyU9r+EMuwTfC73yn4k9jXaAP5B8DjzE3+Y6kRaEPDy7z7vgqrG8nn3nvMrRFD3mYyK7ngH7POHKO7yCdB49HvaBPUCRCjqIrus73hSOvOCwUDzA1Ic7oJdgOZPaQz1gxv889vwYu7ozvbycCry88k4IPeq1BT0byC49ysMnPFsUkDyUrCG7WAn+usA6sjmQfA48sXWAP4z6xbzPzRu9rZrtu0L/WLxutn47qaI8vDw7ob3WZjE9oaZDPGyfPj3J6D69n+FoPaxJHjweebM7/gMhPSaamjuSJSU8aReNumAVJL1QNwK7/XLKvH3jzTz9UCU9biypvJw9ojuMw4o9IGIXPIo0i7xB28I8X2fku8Tf5jqM+sW80XWAPw==",
            "dtype": "f4",
            "shape": "32, 32"
           },
           "zmax": 1,
           "zmin": -1
          }
         ],
         "name": "13"
        },
        {
         "data": [
          {
           "colorscale": [
            [
             0,
             "rgb(103,0,31)"
            ],
            [
             0.1,
             "rgb(178,24,43)"
            ],
            [
             0.2,
             "rgb(214,96,77)"
            ],
            [
             0.3,
             "rgb(244,165,130)"
            ],
            [
             0.4,
             "rgb(253,219,199)"
            ],
            [
             0.5,
             "rgb(247,247,247)"
            ],
            [
             0.6,
             "rgb(209,229,240)"
            ],
            [
             0.7,
             "rgb(146,197,222)"
            ],
            [
             0.8,
             "rgb(67,147,195)"
            ],
            [
             0.9,
             "rgb(33,102,172)"
            ],
            [
             1,
             "rgb(5,48,97)"
            ]
           ],
           "type": "heatmap",
           "z": {
            "bdata": "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",
            "dtype": "f4",
            "shape": "32, 32"
           },
           "zmax": 1,
           "zmin": -1
          }
         ],
         "name": "14"
        },
        {
         "data": [
          {
           "colorscale": [
            [
             0,
             "rgb(103,0,31)"
            ],
            [
             0.1,
             "rgb(178,24,43)"
            ],
            [
             0.2,
             "rgb(214,96,77)"
            ],
            [
             0.3,
             "rgb(244,165,130)"
            ],
            [
             0.4,
             "rgb(253,219,199)"
            ],
            [
             0.5,
             "rgb(247,247,247)"
            ],
            [
             0.6,
             "rgb(209,229,240)"
            ],
            [
             0.7,
             "rgb(146,197,222)"
            ],
            [
             0.8,
             "rgb(67,147,195)"
            ],
            [
             0.9,
             "rgb(33,102,172)"
            ],
            [
             1,
             "rgb(5,48,97)"
            ]
           ],
           "type": "heatmap",
           "z": {
            "bdata": "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",
            "dtype": "f4",
            "shape": "32, 32"
           },
           "zmax": 1,
           "zmin": -1
          }
         ],
         "name": "15"
        },
        {
         "data": [
          {
           "colorscale": [
            [
             0,
             "rgb(103,0,31)"
            ],
            [
             0.1,
             "rgb(178,24,43)"
            ],
            [
             0.2,
             "rgb(214,96,77)"
            ],
            [
             0.3,
             "rgb(244,165,130)"
            ],
            [
             0.4,
             "rgb(253,219,199)"
            ],
            [
             0.5,
             "rgb(247,247,247)"
            ],
            [
             0.6,
             "rgb(209,229,240)"
            ],
            [
             0.7,
             "rgb(146,197,222)"
            ],
            [
             0.8,
             "rgb(67,147,195)"
            ],
            [
             0.9,
             "rgb(33,102,172)"
            ],
            [
             1,
             "rgb(5,48,97)"
            ]
           ],
           "type": "heatmap",
           "z": {
            "bdata": "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",
            "dtype": "f4",
            "shape": "32, 32"
           },
           "zmax": 1,
           "zmin": -1
          }
         ],
         "name": "16"
        },
        {
         "data": [
          {
           "colorscale": [
            [
             0,
             "rgb(103,0,31)"
            ],
            [
             0.1,
             "rgb(178,24,43)"
            ],
            [
             0.2,
             "rgb(214,96,77)"
            ],
            [
             0.3,
             "rgb(244,165,130)"
            ],
            [
             0.4,
             "rgb(253,219,199)"
            ],
            [
             0.5,
             "rgb(247,247,247)"
            ],
            [
             0.6,
             "rgb(209,229,240)"
            ],
            [
             0.7,
             "rgb(146,197,222)"
            ],
            [
             0.8,
             "rgb(67,147,195)"
            ],
            [
             0.9,
             "rgb(33,102,172)"
            ],
            [
             1,
             "rgb(5,48,97)"
            ]
           ],
           "type": "heatmap",
           "z": {
            "bdata": "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",
            "dtype": "f4",
            "shape": "32, 32"
           },
           "zmax": 1,
           "zmin": -1
          }
         ],
         "name": "17"
        },
        {
         "data": [
          {
           "colorscale": [
            [
             0,
             "rgb(103,0,31)"
            ],
            [
             0.1,
             "rgb(178,24,43)"
            ],
            [
             0.2,
             "rgb(214,96,77)"
            ],
            [
             0.3,
             "rgb(244,165,130)"
            ],
            [
             0.4,
             "rgb(253,219,199)"
            ],
            [
             0.5,
             "rgb(247,247,247)"
            ],
            [
             0.6,
             "rgb(209,229,240)"
            ],
            [
             0.7,
             "rgb(146,197,222)"
            ],
            [
             0.8,
             "rgb(67,147,195)"
            ],
            [
             0.9,
             "rgb(33,102,172)"
            ],
            [
             1,
             "rgb(5,48,97)"
            ]
           ],
           "type": "heatmap",
           "z": {
            "bdata": "bHaAP/lmL72isWu88m+OvH/4FLxa0G09KvAZPVQ0z7zBOFM9DPHoPBHF+jyA6iI9OOYMPRLbprzQSPI86EvCOnlhgb26YT+82pgCPB2pPb20Szw98MoivV2oljzmxYc8I1ZMvQ1mILyrvRw9Rg2mO5oWnDrDrtC8sjW4vK/6Yrz5Zi+973WAP05hGr2oVdg8kNejPGPeKj3irCe8nPTDO3anzj3wWP8785KLPYWRUT3UgbM86JW/O8CMJ7lJ+PO8uPFqPcNrS7w0CCQ7/bDMvEYuOruzR1a9ZufhvHbrgT2uqxo9jw0ZPArKDL3oPAc8lKodPcrWDbzQcvk5EkItvaKxa7xOYRq9ZHaAP+gLfTzMElc7xJfyux4z2LzyaKu8q9kOvRLcNj2bUyi9OBeLO0baODwzuVg9zc65PM/H/zxxEtw8yV2cvEgWnTyqSLK7bN0GPTBk8TxEAFg9OFSYPSROM71KwpA7OOV+OwNIwLwp3gE9AIhNODzVsDwQVyw78m+OvKhV2DzoC308M3aAP4iZ77w/CRY8mKyfPe4fPzzNm+A87xasOyIQSbyAQhU9RBM9PZ8oijzAS5E8Gn/FPOTT7LoT9vw8kCoZPHD6Qz1wlB89XkkCPVqXoLyCczc9ZgNwPBnBlry4t+k6PBPou53NdD28VAM9giQCu05YNb1/+BS8kNejPMwSVzuIme+8RXaAP264mLwoyAM7DBW5PWX9x7z+otG8EqbvvEZhpzv4+Di8YDY5On9zs7zRkWC93KryO3KyBD3+6Q+9fGB7PQfzVryEPgI81wNVPB3skrxhFQC92ZlIvGiPyLxuv6c8ks1MPKAiOr0CIwA9RvMPvVrQbT1j3io9xJfyuz8JFjxuuJi8aHWAP+bWPT077WY9P2AKvSe+dTwMy4y8toaOvELYWT3KVbi8z7pnPEYVw7zQfAq8HNqzvNLIzTt8WYE9gxWdu2nQAL0oMA28kLXJOtj0hryH/Qs95qIOvcx+u7yUgL49+aD6PEUudb09YEK9KvAZPeKsJ7weM9i8mKyfPSjIAzvm1j09/HWAP7gy4rwDsF87XVQnPTyOv7vmoCg9dtlNvMbLDD21i7Y8OEfiuuhhFz1Mr/O8FjkKvbcFIL02soE8YBJSPErWlDwY1GQ92iwGvSUN7jwElOa5wuelvNZ+ebyV1y+8mBwqvY7pYz1UNM+8nPTDO/Joq7zuHz88DBW5PTvtZj24MuK8J3aAP6I8M70o2bY8alvdvOxuaL32U1Y8ExS9uzJfGDzOnfU8ZgXxPDCO0TtdCB29IEwMuX44/btakQW8LL9CPZPPGT26QIa9+Hm9uQWBlz3Udd46sVTmPGxJPz1G+6Q8Qn5wPcE4Uz12p849q9kOvc2b4Dxl/ce8P2AKvQOwXzuiPDO95HaAP7HHVD3wj5G8Aq6gvFGKOz3sM9K8bUhhvalWkrzZlJS9rmTWu1BddLsq0Gi8wqFuvCsVHj3ef3k80VHJOzSoaTwtwDW96GHDvPFT0rvQYJg8PqBvPcjHrjqxljC8DPHoPPBY/zsS3DY97xasO/6i0bwnvnU8XVQnPSjZtjyxx1Q9AnaAP5FqJT0ypb872JuKun/UFTzSSUS85SyxPE4+4jzul+K8ESSCPJUS37xszcA8c7ysPPiJXTycYSO8h5GOOxN7Tbv33oQ97J0NPaCMr7lGkxo8n//QPGxozjwRxfo885KLPZtTKL0iEEm8EqbvvAzLjLw8jr+7alvdvPCPkbyRaiU9enaAP2XrGD0Q+369rWpJvI52qTyyHeq70pfFPNyEmD2ck6U8ft8rvXNRLDzg4lS972FRvX31bL2EQYY8BHnLvH90vrwJ60s99mEXvWHskDwOxiU9W9/fvIDqIj2FkVE9OBeLO4BCFT1GYac7toaOvOagKD3sbmi9Aq6gvDKlvztl6xg9DnWAP4pLor3+6GE9TGFxu9g7Frvl7jQ927L3vIgWV7pfuU29V/j7PAjYAb2enym8USoCPRC3Gbwn1Ma8vK1BPBfZRL1KkmG8xsooPW488jpFSnO9OOYMPdSBszxG2jg8RBM9Pfj4OLxC2Fk9dtlNvPZTVjxRijs92JuKuhD7fr2KS6K9h3aAP50MIzz+lgo9vFSePZtt6LzC4ew7I/ROPL2OorzYBuQ8uWTrPEDeSz0+UQW9sDBjvUjLgrwQjvi6AJUBvR+5Aj0AKZo7AAJrvZvMIz0S26a86JW/OzO5WD2fKIo8YDY5OspVuLzGyww9ExS9u+wz0rx/1BU8rWpJvP7oYT2dDCM8THaAPzNRc73QjwG8GlyaO2xjCz1O3kw9rsGavEwqOD1nlMC8TeDXPNXHIr1qx+m8UWYJvHYARbyOjuc89jRbPQHF8byuhNE8BLt5PdBI8jzAjCe5zc65PMBLkTx/c7O8z7pnPLWLtjwyXxg8bUhhvdJJRLyOdqk8TGFxu/6WCj0zUXO963WAP9+3oTzwPSc8bFByvIwzWL0GXia89giRvJ6FKrxDYFW8ZHtRvKge1zoBCRK8BiNjPViTdDxoT866gLgDO1+bgby+Jwe96EvCOkn487zPx/88Gn/FPNGRYL1GFcO8OEfius6d9TypVpK85SyxPLId6rvYOxa7vFSePdCPAbzft6E88HSAPwSlRb1lU7y8/k96vE65Br2E/QG7Wz2ZvEe3VrxOwM480D5Kus/hajx1dS49EnC/PKlR9DzJ9Pc8SadEvIgKB7x5YYG9uPFqPXES3Dzk0+y63KryO9B8CrzoYRc9ZgXxPNmUlL1OPuI80pfFPOXuND2bbei8GlyaO/A9JzwEpUW9HHaAPxUo9rpV3zg821gtvPOELz1usug7fDZ4u9zmiTyCDiK9itsZPbQGYz36fIa8A4EMvUHgEj2qv8487nG3vLphP7zDa0u8yV2cvBP2/DxysgQ9HNqzvEyv87wwjtE7rmTWu+6X4rzchJg927L3vMLh7DtsYws9bFByvGVTvLwVKPa6QHWAP2W1vLx2IC082ue+vHWApLvg02G9/ClmvciCfzyQJrk6nFPIO+rms7z8Uy08u1i/PE4vaDxZf2q82pgCPDQIJDtIFp08kCoZPP7pD73SyM07FjkKvV0IHb1QXXS7ESSCPJyTpTyIFle6I/ROPE7eTD2MM1i9/k96vFXfODxltby8eHaAP1Eq27oQMnE7BXKBPcCJQTx2bVc8ZJtAvMAenrmDbxG9pI3DvCXYjzw7ZzC8/NKTvXwC+jwdqT29/bDMvKpIsrtw+kM9fGB7PXxZgT23BSC9IEwMuSrQaLyVEt+8ft8rvV+5Tb29jqK8rsGavAZeJrxOuQa921gtvHYgLTxRKtu6BHeAP5Ya8bxHqqs8FBNHvT72DL2mOcI6DhGqu6quSb2nBjC9jk98vL1n+jvMmPG8nFpjPbRLPD1GLjq7bN0GPXCUHz0H81a8gxWduzaygTx+OP27wqFuvGzNwDxzUSw8V/j7PNgG5DxMKjg99giRvIT9AbvzhC892ue+vBAycTuWGvG8EXeAP/TYCD3ReCw8Rd+9PCq2qDwUryQ9neXZvORBZrxnKZc98R2YPOK7+Lye7H+88MoivbNHVr0wZPE8XkkCPYQ+Ajxp0AC9YBJSPFqRBbwrFR49c7ysPODiVL0I2AG9uWTrPGeUwLyehSq8Wz2ZvG6y6Dt1gKS7BXKBPUeqqzz02Ag9snaAP/BD8rtTCJu7iLK9ukjoJzwIBee7gCySPXm9Mz3Sm+S87ufruzGVFT1dqJY8ZufhvEQAWD1al6C81wNVPCgwDbxK1pQ8LL9CPd5/eTz4iV0872FRvZ6fKbxA3ks9TeDXPENgVbxHt1a8fDZ4u+DTYb3AiUE8FBNHvdF4LDzwQ/K7oXaAPxwUzrthtXS8lEGwO/QD+zxkSgA93lFpPdKNFr0WSeA8zjJIPebFhzx264E9OFSYPYJzNz0d7JK8kLXJOhjUZD2Tzxk90VHJO5xhI7x99Wy9USoCPT5RBb3VxyK9ZHtRvE7Azjzc5ok8/ClmvXZtVzw+9gy9Rd+9PFMIm7scFM67+XaAP9h+5zuwibq8NM8LvYS5SLuKRo48B8H3vOpfpjz1p6i7I1ZMva6rGj0kTjO9ZgNwPGEVAL3Y9Ia82iwGvbpAhr00qGk8h5GOO4RBhjwQtxm8sDBjvWrH6byoHtc60D5KuoIOIr3Ign88ZJtAvKY5wjoqtqg8iLK9umG1dLzYfuc7NnaAP+SYkD1u/mk8ZD59PMfDkbx+chi9eGqDPFDCZ7wNZiC8jw0ZPErCkDsZwZa82ZlIvIf9Cz0lDe48+Hm9uS3ANb0Te027BHnLvCfUxrxIy4K8UWYJvAEJErzP4Wo8itsZPZAmuTrAHp65DhGquxSvJD1I6Cc8lEGwO7CJurzkmJA9z3aAP5DevTkGF9W8GE0qPFbScbyPjfO8Euf6vKu9HD0Kygy9OOV+O7i36Tpoj8i85qIOvQSU5rkFgZc96GHDvPfehD1/dL68vK1BPBCO+Lp2AEW8BiNjPXV1Lj20BmM9nFPIO4NvEb2qrkm9neXZvAgF57v0A/s8NM8LvW7+aTyQ3r05xnaAPxjuCT2yV9e8PNRoPHe9Xz0O3rO8Rg2mO+g8BzwDSMC8PBPou26/pzzMfru8wuelvNR13jrxU9K77J0NPQnrSz0X2US9AJUBvY6O5zxYk3Q8EnC/PPp8hrzq5rO8pI3DvKcGML3kQWa8gCySPWRKAD2EuUi7ZD59PAYX1bwY7gk9eXaAPyHkTz3uzGa8e/JMPBkTVTyaFpw6lKodPSneAT2dzXQ9ks1MPJSAvj3Wfnm8sVTmPNBgmDygjK+59mEXvUqSYbwfuQI99jRbPWhPzrqpUfQ8A4EMvfxTLTwl2I88jk98vGcplz15vTM93lFpPYpGjjzHw5G8GE0qPLJX17wh5E89BHaAP0PS7DzE3pO7DBa3usOu0LzK1g28AIhNOLxUAz2gIjq9+aD6PJXXL7xsST89PqBvPUaTGjxh7JA8xsooPQApmjsBxfG8gLgDO8n09zxB4BI9u1i/PDtnMLy9Z/o78R2YPNKb5LzSjRa9B8H3vH5yGL1W0nG8PNRoPO7MZrxD0uw8VnaAP2z7EroAC8u6sjW4vNBy+Tk81bA8giQCuwIjAD1FLnW9mBwqvUb7pDzIx646n//QPA7GJT1uPPI6AAJrva6E0Txfm4G8SadEvKq/zjxOL2g8/NKTvcyY8bziu/i87ufruxZJ4DzqX6Y8eGqDPI+N87x3vV89e/JMPMTek7ts+xK64HWAP6Cz0ryv+mK8EkItvRBXLDtOWDW9RvMPvT1gQr2O6WM9Qn5wPbGWMLxsaM48W9/fvEVKc72bzCM9BLt5Pb4nB72ICge87nG3vFl/arx8Avo8nFpjPZ7sf7wxlRU9zjJIPfWnqLtQwme8Euf6vA7es7wZE1U8DBa3ugALy7qgs9K833aAPw==",
            "dtype": "f4",
            "shape": "32, 32"
           },
           "zmax": 1,
           "zmin": -1
          }
         ],
         "name": "18"
        },
        {
         "data": [
          {
           "colorscale": [
            [
             0,
             "rgb(103,0,31)"
            ],
            [
             0.1,
             "rgb(178,24,43)"
            ],
            [
             0.2,
             "rgb(214,96,77)"
            ],
            [
             0.3,
             "rgb(244,165,130)"
            ],
            [
             0.4,
             "rgb(253,219,199)"
            ],
            [
             0.5,
             "rgb(247,247,247)"
            ],
            [
             0.6,
             "rgb(209,229,240)"
            ],
            [
             0.7,
             "rgb(146,197,222)"
            ],
            [
             0.8,
             "rgb(67,147,195)"
            ],
            [
             0.9,
             "rgb(33,102,172)"
            ],
            [
             1,
             "rgb(5,48,97)"
            ]
           ],
           "type": "heatmap",
           "z": {
            "bdata": "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",
            "dtype": "f4",
            "shape": "32, 32"
           },
           "zmax": 1,
           "zmin": -1
          }
         ],
         "name": "19"
        },
        {
         "data": [
          {
           "colorscale": [
            [
             0,
             "rgb(103,0,31)"
            ],
            [
             0.1,
             "rgb(178,24,43)"
            ],
            [
             0.2,
             "rgb(214,96,77)"
            ],
            [
             0.3,
             "rgb(244,165,130)"
            ],
            [
             0.4,
             "rgb(253,219,199)"
            ],
            [
             0.5,
             "rgb(247,247,247)"
            ],
            [
             0.6,
             "rgb(209,229,240)"
            ],
            [
             0.7,
             "rgb(146,197,222)"
            ],
            [
             0.8,
             "rgb(67,147,195)"
            ],
            [
             0.9,
             "rgb(33,102,172)"
            ],
            [
             1,
             "rgb(5,48,97)"
            ]
           ],
           "type": "heatmap",
           "z": {
            "bdata": "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",
            "dtype": "f4",
            "shape": "32, 32"
           },
           "zmax": 1,
           "zmin": -1
          }
         ],
         "name": "20"
        },
        {
         "data": [
          {
           "colorscale": [
            [
             0,
             "rgb(103,0,31)"
            ],
            [
             0.1,
             "rgb(178,24,43)"
            ],
            [
             0.2,
             "rgb(214,96,77)"
            ],
            [
             0.3,
             "rgb(244,165,130)"
            ],
            [
             0.4,
             "rgb(253,219,199)"
            ],
            [
             0.5,
             "rgb(247,247,247)"
            ],
            [
             0.6,
             "rgb(209,229,240)"
            ],
            [
             0.7,
             "rgb(146,197,222)"
            ],
            [
             0.8,
             "rgb(67,147,195)"
            ],
            [
             0.9,
             "rgb(33,102,172)"
            ],
            [
             1,
             "rgb(5,48,97)"
            ]
           ],
           "type": "heatmap",
           "z": {
            "bdata": "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",
            "dtype": "f4",
            "shape": "32, 32"
           },
           "zmax": 1,
           "zmin": -1
          }
         ],
         "name": "21"
        },
        {
         "data": [
          {
           "colorscale": [
            [
             0,
             "rgb(103,0,31)"
            ],
            [
             0.1,
             "rgb(178,24,43)"
            ],
            [
             0.2,
             "rgb(214,96,77)"
            ],
            [
             0.3,
             "rgb(244,165,130)"
            ],
            [
             0.4,
             "rgb(253,219,199)"
            ],
            [
             0.5,
             "rgb(247,247,247)"
            ],
            [
             0.6,
             "rgb(209,229,240)"
            ],
            [
             0.7,
             "rgb(146,197,222)"
            ],
            [
             0.8,
             "rgb(67,147,195)"
            ],
            [
             0.9,
             "rgb(33,102,172)"
            ],
            [
             1,
             "rgb(5,48,97)"
            ]
           ],
           "type": "heatmap",
           "z": {
            "bdata": "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",
            "dtype": "f4",
            "shape": "32, 32"
           },
           "zmax": 1,
           "zmin": -1
          }
         ],
         "name": "22"
        },
        {
         "data": [
          {
           "colorscale": [
            [
             0,
             "rgb(103,0,31)"
            ],
            [
             0.1,
             "rgb(178,24,43)"
            ],
            [
             0.2,
             "rgb(214,96,77)"
            ],
            [
             0.3,
             "rgb(244,165,130)"
            ],
            [
             0.4,
             "rgb(253,219,199)"
            ],
            [
             0.5,
             "rgb(247,247,247)"
            ],
            [
             0.6,
             "rgb(209,229,240)"
            ],
            [
             0.7,
             "rgb(146,197,222)"
            ],
            [
             0.8,
             "rgb(67,147,195)"
            ],
            [
             0.9,
             "rgb(33,102,172)"
            ],
            [
             1,
             "rgb(5,48,97)"
            ]
           ],
           "type": "heatmap",
           "z": {
            "bdata": "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",
            "dtype": "f4",
            "shape": "32, 32"
           },
           "zmax": 1,
           "zmin": -1
          }
         ],
         "name": "23"
        },
        {
         "data": [
          {
           "colorscale": [
            [
             0,
             "rgb(103,0,31)"
            ],
            [
             0.1,
             "rgb(178,24,43)"
            ],
            [
             0.2,
             "rgb(214,96,77)"
            ],
            [
             0.3,
             "rgb(244,165,130)"
            ],
            [
             0.4,
             "rgb(253,219,199)"
            ],
            [
             0.5,
             "rgb(247,247,247)"
            ],
            [
             0.6,
             "rgb(209,229,240)"
            ],
            [
             0.7,
             "rgb(146,197,222)"
            ],
            [
             0.8,
             "rgb(67,147,195)"
            ],
            [
             0.9,
             "rgb(33,102,172)"
            ],
            [
             1,
             "rgb(5,48,97)"
            ]
           ],
           "type": "heatmap",
           "z": {
            "bdata": "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",
            "dtype": "f4",
            "shape": "32, 32"
           },
           "zmax": 1,
           "zmin": -1
          }
         ],
         "name": "24"
        },
        {
         "data": [
          {
           "colorscale": [
            [
             0,
             "rgb(103,0,31)"
            ],
            [
             0.1,
             "rgb(178,24,43)"
            ],
            [
             0.2,
             "rgb(214,96,77)"
            ],
            [
             0.3,
             "rgb(244,165,130)"
            ],
            [
             0.4,
             "rgb(253,219,199)"
            ],
            [
             0.5,
             "rgb(247,247,247)"
            ],
            [
             0.6,
             "rgb(209,229,240)"
            ],
            [
             0.7,
             "rgb(146,197,222)"
            ],
            [
             0.8,
             "rgb(67,147,195)"
            ],
            [
             0.9,
             "rgb(33,102,172)"
            ],
            [
             1,
             "rgb(5,48,97)"
            ]
           ],
           "type": "heatmap",
           "z": {
            "bdata": "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",
            "dtype": "f4",
            "shape": "32, 32"
           },
           "zmax": 1,
           "zmin": -1
          }
         ],
         "name": "25"
        },
        {
         "data": [
          {
           "colorscale": [
            [
             0,
             "rgb(103,0,31)"
            ],
            [
             0.1,
             "rgb(178,24,43)"
            ],
            [
             0.2,
             "rgb(214,96,77)"
            ],
            [
             0.3,
             "rgb(244,165,130)"
            ],
            [
             0.4,
             "rgb(253,219,199)"
            ],
            [
             0.5,
             "rgb(247,247,247)"
            ],
            [
             0.6,
             "rgb(209,229,240)"
            ],
            [
             0.7,
             "rgb(146,197,222)"
            ],
            [
             0.8,
             "rgb(67,147,195)"
            ],
            [
             0.9,
             "rgb(33,102,172)"
            ],
            [
             1,
             "rgb(5,48,97)"
            ]
           ],
           "type": "heatmap",
           "z": {
            "bdata": "BHaAP0+W4DvaAY88+lNdO4+jCb2tmBG9Q0UYPfstTL28QuA73kNhOl6vmLxir7g82O4RvWAC1Dc4/Zo9FYYjPC44FjzMpQA9dCHWPDRCTDvWego82J5wvBkrgzwetkE8ktCUPZhd5Tp1GmS93PThPF59KLtGHX893cGCvDIdkLxPluA7SnWAP4YdEDzctR49ses5vIstPjyjaws98vBgvOKA3TwBhJy8uSYPvDafvTpjVBM91uTzvFNQqjy91s+8bGeVu57Q/DzcwR88FK5dPXnpE7xNkIi72KjTvOj6f7zexUS9UzupPXSl7ztKdny870NdvdvdnjxQeaU8HnCWvNoBjzyGHRA8J3aAP7pVIr2kGmY8G0ckPdhrZTp8T+O850soPd7Pbbu5AoE8eqMEOtB2Eb1VBNK8PnXWPCvdZL18Ypo8zZzXPEtYMjvWoSI7zrjZu1UlWzz5IRO9OL2ivJHOFT0g86o6Hl9evEXXOrps4fo8q5F1vEoRfrvlG3W9+lNdO9y1Hj26VSK9ynWAPwAfBb0kyhI8h1oFPc7gI70sLqa8nGZRPQPnbLzlhl28GHOCPUA10TxzFlA8o+p+vTFqFb1HRwE93SI5vLiPHL3BTuY8ggYBvZxaK702zSk9Yi47une15rsVvaQ85E1/uaHeDL1u12a8sjs6PdDH3rmPowm9ses5vKQaZjwAHwW9FHaAPyItBD1dkAO9Hgg1PHmt7zuGYca88vgfvZ2ZVDwI6ba7PcURPez2vzomW/q7vjX6PPXAzbtEE/28Qm4TPOL/Db0QIfO8ACkmvVVstbscLcW8RlONOyOGJD2ZhxK9+Aw5PJAlf72kUDA8HhdDvK2YEb2LLT48G0ckPSTKEjwiLQQ9ynSAPzjgNTzMkBq8EGv2O/ZtGr30Jp26hcYKvC28br1o1ZA7xxqBPDWeJ72ayVE92/GSvNzLE7sBAnI98pgDPZQJ7rzGBEs8VuFXvUKt5DtoUPy6Xs9GPb8QNjwy/RY8xDAGPaL1Cby0bAY9Q0UYPaNrCz3Ya2U6h1oFPV2QA7044DU8sHWAP5dwfbyZK/e8CnZXvODqZjvkzpw7JjjlO/rz6zwezuk80L5MPVZahzyXFXk8gF3AvJDaQDs73oa90H4COqHrUzxM7na9/VWMvOyXAryqbuO7pJo5O2r+xbw4kGc9VBkSvbsTeT37LUy98vBgvHxP47zO4CO9Hgg1PMyQGryXcH28DHaAP/46k7s8Syc8zpjCvJunRz3pOT48Tqj+vHdE7LxPNhE8QeBtvMK4Aj2jVsG8GcskPNQwWDzZOcU8/KcDPTLkD7sBZDs9N6qUPB4eEDz7KfC8apSIvNFTDz21ASS9SsetPLxC4DvigN0850soPSwuprx5re87EGv2O5kr97z+OpO7O3aAP/I8/TuWq127Fb+du21II7xG7C090E0gvZ2osjur/Eu86Q3ZPFhcr7yw9uC6x/gpPHIRRDxk8Q09/FDlO71IcTyfBJ88RrmRPI6aLr1Z5Ec8xnGau3/pAj27f+m73kNhOgGEnLzez227nGZRPYZhxrz2bRq9CnZXvDxLJzzyPP07DHaAP09xlDyxSRO9TN/tPNwRxbz3Th48o3YSPWWfIL2qqmG9XbSDPXDFibz3woc9xkwbPQfehT06RB099oBQvcbpNj2K7yk9AN09PXbuEb2rKys9rwL0vBVGnLxer5i8uSYPvLkCgTwD52y88vgfvfQmnbrg6mY7zpjCvJarXbtPcZQ8dHeAPyoqg73+aoo841t+vSMbU70gGpk9wa8Fvcj50byi4Bk9/EQnO1T2FD2Z5Lq8suoOvYT/D72THry8E28OvTuuGT2vntk89yCMu6oUorzCnGq8/jMcPGKvuDw2n706eqMEOuWGXbydmVQ8hcYKvOTOnDubp0c9Fb+du7FJE70qKoO9UnWAPz9uuLu/tZK8eS8IPSAcw7sjnT69F8jlPIVz/LycJgW7c1yuPJKkDr3xaTE8f343vS64u7wNlSa9OKE/u46yWjy1xdk8Xn/xu4OscbxZnDi92O4RvWNUEz3QdhG9GHOCPQjptrstvG69JjjlO+k5PjxtSCO8TN/tPP5qijw/bri79nWAP5AAGb3eGZe79JiJvLIY3Dyc74U89oLhuwXz47zKmzY94LZ+PBxjWbs6L2c7xLbCu2Kgezy5ZsA84q8iPeiZFDsSS5e834tOvEYKFz1gAtQ31uTzvFUE0rxANdE8PcURPWjVkDv68+s8Tqj+vEbsLT3cEcW841t+vb+1kryQABm9WXWAPwCjATxK6708ngkevVD7OT0gzLe75MrDOQKncD26nem8OhJmvNsg+7uwAoQ8ooGTvLxvg7w6xjg9Sn+2OxaBFr1tlCU9PBunPDj9mj1TUKo8PnXWPHMWUDzs9r86xxqBPB7O6Tx3ROy80E0gvfdOHjwjG1O9eS8IPd4Zl7sAowE8oHWAP+CvSzwFgLI8pT5LPSAOZ7y+Y4C7q5cfvC30njzv7v68ViAhPVjsCb3EhzG8OI0avEyMjz2ljYg9/OuMu3Q2E72uySE9FYYjPL3Wz7wr3WS9o+p+vSZb+rs1nie90L5MPU82ETydqLI7o3YSPSAamT0gHMO79JiJvErrvTzgr0s8RHeAP2MfSDs1wT69eGBavHJnJD2VRS893nlZvD7Nmrvsbe27ivsdvQKZh7xQ85s8A3i5OwxUSbwZvRo8koLDvMwjnLsuOBY8bGeVu3ximjwxahW9vjX6PJrJUT1WWoc8QeBtvKv8S7xlnyC9wa8FvSOdPr2yGNw8ngkevQWAsjxjH0g7DneAP5W0Db1eARc9NhdOO8ZcFb1lFsC8umpKvDaudL0rsmg8qPw8uzjwmLnibOi8jWIavGO8Fr1siZm88/fMPMylAD2e0Pw8zZzXPEdHAT31wM272/GSvJcVeTzCuAI96Q3ZPKqqYb3I+dG8F8jlPJzvhTxQ+zk9pT5LPTXBPr2VtA29O3aAPwDgKzsrzSa9jyu7vMvWHj1sk9o8RNXkvGpfQLwSdZG7eBUDPSRUsjySbNo8kfAePZI7xzyyovK8dCHWPNzBHzxLWDI73SI5vEQT/bzcyxO7gF3AvKNWwbxYXK+8XbSDPaLgGT2Fc/y89oLhuyDMt7sgDme8eGBavF4BFz0A4Cs7v3eAPw4b/rwsGsy6XCmtPGL/Ez1kr8A82piUvGyetLx+MpM8vbRsPCsvAb1Dw3m8KJuAvIkuMT00Qkw7FK5dPdahIju4jxy9Qm4TPAECcj2Q2kA7GcskPLD24LpwxYm8/EQnO5wmBbsF8+O85MrDOb5jgLtyZyQ9NhdOOyvNJr0OG/684nWAPxE80TwYdxi9KzTwPPFeTL2Hf8Q7c0tAvQzZTbwYqa88syJ2PXJIz7zsMJ88QPRMPdZ6Cjx56RO8zrjZu8FO5jzi/w298pgDPTvehr3UMFg8x/gpPPfChz1U9hQ9c1yuPMqbNj0Cp3A9q5cfvJVFLz3GXBW9jyu7vCwazLoRPNE8sHWAP4WTCb1IIJm8puxRPfaDjLyAzA+7Iqn5umrknrxNYCS97aNJPVYxCD3Xqie82J5wvE2QiLtVJVs8ggYBvRAh87yUCe680H4COtk5xTxyEUQ8xkwbPZnkurySpA694LZ+PLqd6bwt9J483nlZvGUWwLzL1h49XCmtPBh3GL2Fkwm9pnaAP91XET0PTV89zOpUPOoCDb2pFP+8EpuPPArESb1aCFM8QFRhPAEfDz0ZK4M82KjTvPkhE72cWiu9ACkmvcYESzyh61M8/KcDPWTxDT0H3oU9suoOvfFpMTwcY1m7OhJmvO/u/rw+zZq7umpKvGyT2jxi/xM9KzTwPEggmbzdVxE94XaAP7+IG70ASZC8/a8evfjI27wOy9+8JhC+OxSD1jzAGaS83OwzvR62QTzo+n+8OL2ivDbNKT1VbLW7VuFXvUzudr0y5A+7/FDlOzpEHT2E/w+9f343vTovZzvbIPu7ViAhPext7bs2rnS9RNXkvGSvwDzxXky9puxRPQ9NXz2/iBu9MHaAP0wGJ706ve+8GasNvTKaIL30pRG84nUMvcBQnTxcK9e7ktCUPd7FRL2RzhU9Yi47uhwtxbxCreQ7/VWMvAFkOz29SHE89oBQvZMevLwuuLu8xLbCu7AChDxY7Am9ivsdvSuyaDxqX0C82piUvId/xDv2g4y8zOpUPABJkLxMBie9y3SAPwrhlTs7ak09LilHPUSuJr0WlNc8/dRkvaybu7qYXeU6UzupPSDzqjp3tea7RlONO2hQ/LrslwK8N6qUPJ8EnzzG6TY9E28OvQ2VJr1ioHs8ooGTvMSHMbwCmYe8qPw8uxJ1kbtsnrS8c0tAvYDMD7vqAg29/a8evTq977wK4ZU7gnaAPwjZhLx0BUY8Qd2nvEcGQjwwQoo7XjywvXUaZL10pe87Hl9evBW9pDwjhiQ9Xs9GPapu47seHhA8RrmRPIrvKT07rhk9OKE/u7lmwDy8b4O8OI0avFDzmzw48Ji5eBUDPX4ykzwM2U28Iqn5uqkU/7z4yNu8GasNvTtqTT0I2YS8kXWAP3kAaD1gcaY5i26wvHrrBb1onK+83PThPEp2fLxF1zq65E1/uZmHEr2/EDY8pJo5O/sp8LyOmi69AN09Pa+e2TyOslo84q8iPTrGOD1MjI89A3i5O+Js6LwkVLI8vbRsPBiprzxq5J68EpuPPA7L37wymiC9LilHPXQFRjx5AGg9M3WAP67ZPb0AqjM9DN/VuobhPztefSi770NdvWzh+jyh3gy9+Aw5PDL9Fjxq/sW8apSIvFnkRzx27hG99yCMu7XF2TzomRQ7Sn+2O6WNiD0MVEm8jWIavJJs2jwrLwG9syJ2PU1gJL0KxEm9JhC+O/SlEbxEria9Qd2nvGBxpjmu2T29XnaAP3uGk7x6uY88hjwgvUYdfz3b3Z48q5F1vG7XZryQJX+9xDAGPTiQZz3RUw89xnGau6srKz2qFKK8Xn/xuxJLl7wWgRa9/OuMuxm9GjxjvBa9kfAePUPDebxySM+87aNJPVoIUzwUg9Y84nUMvRaU1zxHBkI8i26wvACqMz17hpO8AnaAP0enmbwAG4S83cGCvFB5pTxKEX67sjs6PaRQMDyi9Qm8VBkSvbUBJL1/6QI9rwL0vMKcaryDrHG834tOvG2UJT10NhO9koLDvGyJmbySO8c8KJuAvOwwnzxWMQg9QFRhPMAZpLzAUJ08/dRkvTBCijt66wW9DN/Vunq5jzxHp5m883aAPzgVqroyHZC8HnCWvOUbdb3Qx965HhdDvLRsBj27E3k9SsetPLt/6bsVRpy8/jMcPFmcOL1GChc9PBunPK7JIT3MI5y78/fMPLKi8ryJLjE9QPRMPdeqJ7wBHw893OwzvVwr17usm7u6XjywvWicr7yG4T87hjwgvQAbhLw4Faq6a3eAPw==",
            "dtype": "f4",
            "shape": "32, 32"
           },
           "zmax": 1,
           "zmin": -1
          }
         ],
         "name": "26"
        },
        {
         "data": [
          {
           "colorscale": [
            [
             0,
             "rgb(103,0,31)"
            ],
            [
             0.1,
             "rgb(178,24,43)"
            ],
            [
             0.2,
             "rgb(214,96,77)"
            ],
            [
             0.3,
             "rgb(244,165,130)"
            ],
            [
             0.4,
             "rgb(253,219,199)"
            ],
            [
             0.5,
             "rgb(247,247,247)"
            ],
            [
             0.6,
             "rgb(209,229,240)"
            ],
            [
             0.7,
             "rgb(146,197,222)"
            ],
            [
             0.8,
             "rgb(67,147,195)"
            ],
            [
             0.9,
             "rgb(33,102,172)"
            ],
            [
             1,
             "rgb(5,48,97)"
            ]
           ],
           "type": "heatmap",
           "z": {
            "bdata": "i3WAP8f72Tx4RkS99O7Uu4hLwryvTnE99S2yvAhJCTzsg9w7V+SUu8raQb2ZfJU7GPa8PKfcaby505U81/aKva7VQr12DDi7ttfuPBzvtDytGYw8gjuUupIU2TvoVUU6QHfTvARsE71yoVS8c+v8PFIvLT3DmEO9PB52verYBT3H+9k8s3aAP4E4pL0IuaM8rwsTvewGErsW/Gq9fSdgvQKRhDzD/im9A9w9vA/DPLthbp082ZtAvP0xCT2X3+a7OgnLOxAy7TxGj0E8IhaoPNzdLT0i/9q7Iu0LPYAYJLzWJH08OoyfPOz9ervd5Xg9U3soPd5P5jxojZM8aj+ovHhGRL2BOKS98HWAP1EuFjxl5vs7UjUXvZKe9TqBIXG9fRhKPQFuU72moWO8gv28PNMipLznlkg9UDmsPLxl37vawDS9lv5DvCcFCr3kogc7mqrUPPaGmr1oizy8wvs5vBAmozyAemC7TV8nvC2t0TzBoxg9L7slPHajKL0HMxW99O7Uuwi5ozxRLhY8MHaAP/PAVLxhW1W8dEdivLlTmb1Oj4M8eMpJvVwSZb3desQ8yHGfvaCMLrqu/2Y89eanOqxBkr1IIJq9/Mr9vNUvrLyEZ5C91lixvLQCRzwIHaC9rYAePcDgq7vhaZU87qDTO80P3rtN3Is8ThBoveI9J7yIS8K8rwsTvWXm+zvzwFS8XnaAP+52D7yzvQy9zlbNvOEvibw6sYM9e0KHPB84vTzychU9IICwOUnvKTz650y8uw4FPYV+Lz2oWUK8aV/9vBSNhbxnuwk9ZUgNPL/Iq7yyZj09sydBvIk0VL1RGuo8AiVavczSyLzE/7M8B+C0O69OcT3sBhK7UjUXvWFbVbzudg+813WAP4E2jjrTZZY9uDwXvfDuAL2Q8/W71mg8vKjH5jz//F69DZc3PDEiJz3/uzS8Snk1O5oJnzw1qwQ9Yj+1O4dPfzzC04a8mQ4cPcDEHzwU+Rw9CUr5vHgWdTwqfAc9geKlPC2NvLy8m1299S2yvBb8ar2SnvU6dEdivLO9DL2BNo46RXaAPyQ8/jykHia8vK6kvLYlCTwp/Cu8a7GXvJwUsTtpfaa8nCWZPPlaUT0cdOE9ukU9vP1P6rwSMCI8lZZhPJ3SiDyDXSM9nuExvazCUzyZCWE9mKmIvGVvkLxbpyQ9+F4BvYIVXzwISQk8fSdgvYEhcb25U5m9zlbNvNNllj0kPP48snWAP4mqvbzG3K88MoWju6jphTqZtum8xI5JPVk87bywhTo9tJIXPeHX6LzhAv08KTQhvRy9tryY4Qm9lOc1vfy1kLw248C88oIQvSQavruLS8M7Vw0RPaBV4zyTuUW9WFIbPeyD3DsCkYQ8fRhKPU6PgzzhL4m8uDwXvaQeJryJqr28q3WAP7iAVLzguUo6nUpPPLWs9TtRzaE9KePYvCwjur2CRiO8vMyTuxgztbyWZW67wTgovcuCE73Q9Cc9CYrmu/CP0LsNioY8tGzQO4SNBT3eObe8i+ezOwDRL721e2S9V+SUu8P+Kb0BblO9eMpJvTqxgz3w7gC9vK6kvMbcrzy4gFS8gXaAP+IEaT1QtoE7siqOvMozOr31xBk92OAKvT1BFD0tfPs8o1g9vBCcxju9FkG9hYrAPOL8/TwMALY80caRPLoJ1DzdVZO8dNNVvCbq2jzk3Wc8KcdtPdpM+LzK2kG9A9w9vKahY7xcEmW9e0KHPJDz9bu2JQk8MoWju+C5SjriBGk9T3aAP6/SpLyca7s8Zec4vb5sF7yu/p+8jO75u/7ySrtcWQC9JMt+PO1QCb02tNU81wOCvF55vjxuy0m80LsWu8PMGz3KsVq8yTGKvXYnpj2lSZI8WKKJvJl8lTsPwzy7gv28PN16xDwfOL081mg8vCn8K7yo6YU6nUpPPFC2gTuv0qS8y3WAP+jGMrtSayc8H/MVPYrlsrt8s9K7v/uIvM9FuTy09Yk8UtMsPAUYHb24gA+9SHgsPDn61jwXgwq89O8cvTO4NT1WzDE9Gr/jvBwCK7wlIp27GPa8PGFunTzTIqS8yHGfvfJyFT2ox+Y8a7GXvJm26by1rPU7siqOvJxruzzoxjK7M3aAP0D41Lw+yaY85p2KO4KMhT20ruU74IlvOv0DTzwfE088S34vPava3jxWrGg8NgOhPLh06Lwhpv+8tpD2PETX8LyzI8A82NAjPSGmJL2n3Gm82ZtAvOeWSD2gjC66IICwOf/8Xr2cFLE7xI5JPVHNoT3KMzq9Zec4vVJrJzxA+NS8uHaAP1rk3LsoZ9e7pKlsvELBJT0FlZq8LHxhvMIBlLzSrKW9tirwPCr2jbzYPPy8jGtoPCL19bsL7k89mlkrPK74tTxIcLG6fUqSPbnTlTz9MQk9UDmsPK7/ZjxJ7yk8DZc3PGl9prxZPO28KePYvPXEGT2+bBe8H/MVPT7Jpjxa5Ny7RXaAPyw4KjyyXDA9pDAMvfqK47wW5oo7ZCe2O1NLAj0QpTC9ErcOOqFCAj0M70u9XhtgPP7auDzrJbS77fXjvAAVKz3D7i691/aKvZff5ru8Zd+79eanOvrnTLwxIic9nCWZPLCFOj0sI7q92OAKva7+n7yK5bK75p2KOyhn17ssOCo8KneAP6wTDT0PT7y84tNDvHVexTza3js9BKI5vUIHNLwvjqA7LgjKvHibGD3OHIM8RjWMPNQ7Xzo+hzo8Lki3uwUpeDuu1UK9OgnLO9rANL2sQZK9uw4FPf+7NLz5WlE9tJIXPYJGI7w9QRQ9jO75u3yz0ruCjIU9pKlsvLJcMD2sEw099HiAPxjse7uPKNu8DM4kO6bWA73/Axg8MsAcvSCmC7xjZAS9p0ooPTwzHb0Q7sI54XAMvYpAKL2LwCI9RtPBPHYMOLsQMu08lv5DvEggmr2Ffi89Snk1Oxx04T3h1+i8vMyTuy18+zz+8kq7v/uIvLSu5TtCwSU9pDAMvQ9PvLwY7Hu7v3aAPzBKhrtz/gW9gDFgu30/Dr3ZIZ08DNHbPP6gxDzAWAC9+OfwvFNBsr3qDHs99/W2PFi9LDzHGD49ttfuPEaPQTwnBQq9/Mr9vKhZQryaCZ88ukU9vOEC/TwYM7W8o1g9vFxZAL3PRbk84IlvOgWVmrz6iuO84tNDvI8o27wwSoa7zHWAP/CzKrzK/yk86BumPMTtN73gIAS9HjQ9Pb7jkDvenEE9Z5N9PV7o3DyOavW8sKGxPDrz6bwc77Q8IhaoPOSiBzvVL6y8aV/9vDWrBD39T+q8KTQhvZZlbrsQnMY7JMt+PLT1iTz9A088LHxhvBbmijt1XsU8DM4kO3P+Bb3wsyq8FHaAP5aw87roZQM94oq1vFoh+Tt2Ya28pHBfPaordDyQ8qE6QJ8YvdMzY73T3Lo8dsgxu60ZjDzc3S09mqrUPIRnkL0UjYW8Yj+1OxIwIjwcvba8wTgovb0WQb3tUAm9UtMsPB8TTzzCAZS8ZCe2O9reOz2m1gO9gDFgu8r/KTyWsPO68XWAPwDQ8zjCBWI8xy2OPMhCxrsM64G9ic3JPOgfMrwMUzQ91EPivIF/hDxbBEg8gjuUuiL/2rv2hpq91lixvGe7CT2HT388lZZhPJjhCb3LghO9hYrAPDa01TwFGB29S34vPdKspb1TSwI9BKI5vf8DGDx9Pw696BumPOhlAz0A0PM493WAPxT0E7w4VUG7sSJ1vUSuhLy1QTg9jBBNvYmUgrzGSqQ76KpavYzYIDySFNk7Iu0LPWiLPLy0Akc8ZUgNPMLThryd0og8lOc1vdD0Jz3i/P081wOCvLiAD72r2t48tirwPBClML1CBzS8MsAcvdkhnTzE7Te94oq1vMIFYjwU9BO8GnWAP6YOzDxZ5Yw8Nf88vCdiNz3C9T09OomFO2S+FTxR4xc9w4FkPehVRTqAGCS8wvs5vAgdoL2/yKu8mQ4cPYNdIz38tZC8CYrmuwwAtjxeeb48SHgsPFasaDwq9o28ErcOOi+OoDsgpgu8DNHbPOAgBL1aIfk7xy2OPDhVQbumDsw8OXaAP0zK8LyyrFE84Oeyu5n0irx/VXy8jGgWvY9AbDx+ouk8QHfTvNYkfTwQJqM8rYAePbJmPT3AxB88nuExvTbjwLzwj9C70caRPG7LSbw5+tY8NgOhPNg8/LyhQgI9LgjKvGNkBL3+oMQ8HjQ9PXZhrbzIQsa7sSJ1vVnljDxMyvC8DHaAP6WTFDxAui68ignuvAhphz2SQ/c6qBtJPGqUqjsEbBO9OoyfPIB6YLvA4Ku7sydBvBT5HD2swlM88oIQvQ2Khjy6CdQ80LsWuxeDCry4dOi8jGtoPAzvS714mxg9p0ooPcBYAL2+45A7pHBfPQzrgb1EroS8Nf88vLKsUTylkxQ8o3aAP5RMLDyEOpY9aNTlu9ycyzzmE6u8njrdvHKhVLzs/Xq7TV8nvOFplTyJNFS9CUr5vJkJYT0kGr67tGzQO91Vk7zDzBs99O8cvSGm/7wi9fW7XhtgPM4cgzw8Mx29+OfwvN6cQT2qK3Q8ic3JPLVBOD0nYjc94Oeyu0C6LryUTCw8oHeAP6BAuzxLhxi9KFchPY66LLyA0YS8c+v8PN3leD0trdE87qDTO1Ea6jx4FnU8mKmIvItLwzuEjQU9dNNVvMqxWrwzuDU9tpD2PAvuTz3+2rg8RjWMPBDuwjlTQbK9Z5N9PZDyoTroHzK8jBBNvcL1PT2Z9Iq8ignuvIQ6lj2gQLs8HHaAP1F9ez2W12w65K80vBpCk7xSLy09U3soPcGjGD3ND967AiVavSp8Bz1lb5C8Vw0RPd45t7wm6to8yTGKvVbMMT1E1/C8mlkrPOsltLvUO1864XAMveoMez1e6Nw8QJ8YvQxTND2JlIK8OomFO39VfLwIaYc9aNTlu0uHGL1RfXs9G3eAP/Id1LzOXxG9AEonO8OYQ73eT+Y8L7slPE3cizzM0si8geKlPFunJD2gVeM8i+ezO+TdZzx2J6Y9Gr/jvLMjwDyu+LU87fXjvD6HOjyKQCi99/W2PI5q9bzTM2O91EPivMZKpDtkvhU8jGgWvZJD9zrcnMs8KFchPZbXbDryHdS8u3WAPxxFm7s+yLA8PB52vWiNkzx2oyi9ThBovcT/szwtjby8+F4BvZO5Rb0A0S+9KcdtPaVJkjwcAiu82NAjPUhwsboAFSs9Lki3u4vAIj1YvSw8sKGxPNPcujyBf4Q86KpavVHjFz2PQGw8qBtJPOYTq7yOuiy85K80vM5fEb0cRZu7B3eAP8sRN73q2AU9aj+ovAczFb3iPSe8B+C0O7ybXb2CFV88WFIbPbV7ZL3aTPi8WKKJvCUinbshpiS9fUqSPcPuLr0FKXg7RtPBPMcYPj068+m8dsgxu1sESDyM2CA8w4FkPX6i6TxqlKo7njrdvIDRhLwaQpO8AEonOz7IsDzLETe9r3eAPw==",
            "dtype": "f4",
            "shape": "32, 32"
           },
           "zmax": 1,
           "zmin": -1
          }
         ],
         "name": "27"
        },
        {
         "data": [
          {
           "colorscale": [
            [
             0,
             "rgb(103,0,31)"
            ],
            [
             0.1,
             "rgb(178,24,43)"
            ],
            [
             0.2,
             "rgb(214,96,77)"
            ],
            [
             0.3,
             "rgb(244,165,130)"
            ],
            [
             0.4,
             "rgb(253,219,199)"
            ],
            [
             0.5,
             "rgb(247,247,247)"
            ],
            [
             0.6,
             "rgb(209,229,240)"
            ],
            [
             0.7,
             "rgb(146,197,222)"
            ],
            [
             0.8,
             "rgb(67,147,195)"
            ],
            [
             0.9,
             "rgb(33,102,172)"
            ],
            [
             1,
             "rgb(5,48,97)"
            ]
           ],
           "type": "heatmap",
           "z": {
            "bdata": "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",
            "dtype": "f4",
            "shape": "32, 32"
           },
           "zmax": 1,
           "zmin": -1
          }
         ],
         "name": "28"
        },
        {
         "data": [
          {
           "colorscale": [
            [
             0,
             "rgb(103,0,31)"
            ],
            [
             0.1,
             "rgb(178,24,43)"
            ],
            [
             0.2,
             "rgb(214,96,77)"
            ],
            [
             0.3,
             "rgb(244,165,130)"
            ],
            [
             0.4,
             "rgb(253,219,199)"
            ],
            [
             0.5,
             "rgb(247,247,247)"
            ],
            [
             0.6,
             "rgb(209,229,240)"
            ],
            [
             0.7,
             "rgb(146,197,222)"
            ],
            [
             0.8,
             "rgb(67,147,195)"
            ],
            [
             0.9,
             "rgb(33,102,172)"
            ],
            [
             1,
             "rgb(5,48,97)"
            ]
           ],
           "type": "heatmap",
           "z": {
            "bdata": "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",
            "dtype": "f4",
            "shape": "32, 32"
           },
           "zmax": 1,
           "zmin": -1
          }
         ],
         "name": "29"
        },
        {
         "data": [
          {
           "colorscale": [
            [
             0,
             "rgb(103,0,31)"
            ],
            [
             0.1,
             "rgb(178,24,43)"
            ],
            [
             0.2,
             "rgb(214,96,77)"
            ],
            [
             0.3,
             "rgb(244,165,130)"
            ],
            [
             0.4,
             "rgb(253,219,199)"
            ],
            [
             0.5,
             "rgb(247,247,247)"
            ],
            [
             0.6,
             "rgb(209,229,240)"
            ],
            [
             0.7,
             "rgb(146,197,222)"
            ],
            [
             0.8,
             "rgb(67,147,195)"
            ],
            [
             0.9,
             "rgb(33,102,172)"
            ],
            [
             1,
             "rgb(5,48,97)"
            ]
           ],
           "type": "heatmap",
           "z": {
            "bdata": "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",
            "dtype": "f4",
            "shape": "32, 32"
           },
           "zmax": 1,
           "zmin": -1
          }
         ],
         "name": "30"
        },
        {
         "data": [
          {
           "colorscale": [
            [
             0,
             "rgb(103,0,31)"
            ],
            [
             0.1,
             "rgb(178,24,43)"
            ],
            [
             0.2,
             "rgb(214,96,77)"
            ],
            [
             0.3,
             "rgb(244,165,130)"
            ],
            [
             0.4,
             "rgb(253,219,199)"
            ],
            [
             0.5,
             "rgb(247,247,247)"
            ],
            [
             0.6,
             "rgb(209,229,240)"
            ],
            [
             0.7,
             "rgb(146,197,222)"
            ],
            [
             0.8,
             "rgb(67,147,195)"
            ],
            [
             0.9,
             "rgb(33,102,172)"
            ],
            [
             1,
             "rgb(5,48,97)"
            ]
           ],
           "type": "heatmap",
           "z": {
            "bdata": "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",
            "dtype": "f4",
            "shape": "32, 32"
           },
           "zmax": 1,
           "zmin": -1
          }
         ],
         "name": "31"
        },
        {
         "data": [
          {
           "colorscale": [
            [
             0,
             "rgb(103,0,31)"
            ],
            [
             0.1,
             "rgb(178,24,43)"
            ],
            [
             0.2,
             "rgb(214,96,77)"
            ],
            [
             0.3,
             "rgb(244,165,130)"
            ],
            [
             0.4,
             "rgb(253,219,199)"
            ],
            [
             0.5,
             "rgb(247,247,247)"
            ],
            [
             0.6,
             "rgb(209,229,240)"
            ],
            [
             0.7,
             "rgb(146,197,222)"
            ],
            [
             0.8,
             "rgb(67,147,195)"
            ],
            [
             0.9,
             "rgb(33,102,172)"
            ],
            [
             1,
             "rgb(5,48,97)"
            ]
           ],
           "type": "heatmap",
           "z": {
            "bdata": "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",
            "dtype": "f4",
            "shape": "32, 32"
           },
           "zmax": 1,
           "zmin": -1
          }
         ],
         "name": "32"
        },
        {
         "data": [
          {
           "colorscale": [
            [
             0,
             "rgb(103,0,31)"
            ],
            [
             0.1,
             "rgb(178,24,43)"
            ],
            [
             0.2,
             "rgb(214,96,77)"
            ],
            [
             0.3,
             "rgb(244,165,130)"
            ],
            [
             0.4,
             "rgb(253,219,199)"
            ],
            [
             0.5,
             "rgb(247,247,247)"
            ],
            [
             0.6,
             "rgb(209,229,240)"
            ],
            [
             0.7,
             "rgb(146,197,222)"
            ],
            [
             0.8,
             "rgb(67,147,195)"
            ],
            [
             0.9,
             "rgb(33,102,172)"
            ],
            [
             1,
             "rgb(5,48,97)"
            ]
           ],
           "type": "heatmap",
           "z": {
            "bdata": "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",
            "dtype": "f4",
            "shape": "32, 32"
           },
           "zmax": 1,
           "zmin": -1
          }
         ],
         "name": "33"
        },
        {
         "data": [
          {
           "colorscale": [
            [
             0,
             "rgb(103,0,31)"
            ],
            [
             0.1,
             "rgb(178,24,43)"
            ],
            [
             0.2,
             "rgb(214,96,77)"
            ],
            [
             0.3,
             "rgb(244,165,130)"
            ],
            [
             0.4,
             "rgb(253,219,199)"
            ],
            [
             0.5,
             "rgb(247,247,247)"
            ],
            [
             0.6,
             "rgb(209,229,240)"
            ],
            [
             0.7,
             "rgb(146,197,222)"
            ],
            [
             0.8,
             "rgb(67,147,195)"
            ],
            [
             0.9,
             "rgb(33,102,172)"
            ],
            [
             1,
             "rgb(5,48,97)"
            ]
           ],
           "type": "heatmap",
           "z": {
            "bdata": "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",
            "dtype": "f4",
            "shape": "32, 32"
           },
           "zmax": 1,
           "zmin": -1
          }
         ],
         "name": "34"
        },
        {
         "data": [
          {
           "colorscale": [
            [
             0,
             "rgb(103,0,31)"
            ],
            [
             0.1,
             "rgb(178,24,43)"
            ],
            [
             0.2,
             "rgb(214,96,77)"
            ],
            [
             0.3,
             "rgb(244,165,130)"
            ],
            [
             0.4,
             "rgb(253,219,199)"
            ],
            [
             0.5,
             "rgb(247,247,247)"
            ],
            [
             0.6,
             "rgb(209,229,240)"
            ],
            [
             0.7,
             "rgb(146,197,222)"
            ],
            [
             0.8,
             "rgb(67,147,195)"
            ],
            [
             0.9,
             "rgb(33,102,172)"
            ],
            [
             1,
             "rgb(5,48,97)"
            ]
           ],
           "type": "heatmap",
           "z": {
            "bdata": "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",
            "dtype": "f4",
            "shape": "32, 32"
           },
           "zmax": 1,
           "zmin": -1
          }
         ],
         "name": "35"
        },
        {
         "data": [
          {
           "colorscale": [
            [
             0,
             "rgb(103,0,31)"
            ],
            [
             0.1,
             "rgb(178,24,43)"
            ],
            [
             0.2,
             "rgb(214,96,77)"
            ],
            [
             0.3,
             "rgb(244,165,130)"
            ],
            [
             0.4,
             "rgb(253,219,199)"
            ],
            [
             0.5,
             "rgb(247,247,247)"
            ],
            [
             0.6,
             "rgb(209,229,240)"
            ],
            [
             0.7,
             "rgb(146,197,222)"
            ],
            [
             0.8,
             "rgb(67,147,195)"
            ],
            [
             0.9,
             "rgb(33,102,172)"
            ],
            [
             1,
             "rgb(5,48,97)"
            ]
           ],
           "type": "heatmap",
           "z": {
            "bdata": "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",
            "dtype": "f4",
            "shape": "32, 32"
           },
           "zmax": 1,
           "zmin": -1
          }
         ],
         "name": "36"
        },
        {
         "data": [
          {
           "colorscale": [
            [
             0,
             "rgb(103,0,31)"
            ],
            [
             0.1,
             "rgb(178,24,43)"
            ],
            [
             0.2,
             "rgb(214,96,77)"
            ],
            [
             0.3,
             "rgb(244,165,130)"
            ],
            [
             0.4,
             "rgb(253,219,199)"
            ],
            [
             0.5,
             "rgb(247,247,247)"
            ],
            [
             0.6,
             "rgb(209,229,240)"
            ],
            [
             0.7,
             "rgb(146,197,222)"
            ],
            [
             0.8,
             "rgb(67,147,195)"
            ],
            [
             0.9,
             "rgb(33,102,172)"
            ],
            [
             1,
             "rgb(5,48,97)"
            ]
           ],
           "type": "heatmap",
           "z": {
            "bdata": "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",
            "dtype": "f4",
            "shape": "32, 32"
           },
           "zmax": 1,
           "zmin": -1
          }
         ],
         "name": "37"
        },
        {
         "data": [
          {
           "colorscale": [
            [
             0,
             "rgb(103,0,31)"
            ],
            [
             0.1,
             "rgb(178,24,43)"
            ],
            [
             0.2,
             "rgb(214,96,77)"
            ],
            [
             0.3,
             "rgb(244,165,130)"
            ],
            [
             0.4,
             "rgb(253,219,199)"
            ],
            [
             0.5,
             "rgb(247,247,247)"
            ],
            [
             0.6,
             "rgb(209,229,240)"
            ],
            [
             0.7,
             "rgb(146,197,222)"
            ],
            [
             0.8,
             "rgb(67,147,195)"
            ],
            [
             0.9,
             "rgb(33,102,172)"
            ],
            [
             1,
             "rgb(5,48,97)"
            ]
           ],
           "type": "heatmap",
           "z": {
            "bdata": "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",
            "dtype": "f4",
            "shape": "32, 32"
           },
           "zmax": 1,
           "zmin": -1
          }
         ],
         "name": "38"
        },
        {
         "data": [
          {
           "colorscale": [
            [
             0,
             "rgb(103,0,31)"
            ],
            [
             0.1,
             "rgb(178,24,43)"
            ],
            [
             0.2,
             "rgb(214,96,77)"
            ],
            [
             0.3,
             "rgb(244,165,130)"
            ],
            [
             0.4,
             "rgb(253,219,199)"
            ],
            [
             0.5,
             "rgb(247,247,247)"
            ],
            [
             0.6,
             "rgb(209,229,240)"
            ],
            [
             0.7,
             "rgb(146,197,222)"
            ],
            [
             0.8,
             "rgb(67,147,195)"
            ],
            [
             0.9,
             "rgb(33,102,172)"
            ],
            [
             1,
             "rgb(5,48,97)"
            ]
           ],
           "type": "heatmap",
           "z": {
            "bdata": "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",
            "dtype": "f4",
            "shape": "32, 32"
           },
           "zmax": 1,
           "zmin": -1
          }
         ],
         "name": "39"
        },
        {
         "data": [
          {
           "colorscale": [
            [
             0,
             "rgb(103,0,31)"
            ],
            [
             0.1,
             "rgb(178,24,43)"
            ],
            [
             0.2,
             "rgb(214,96,77)"
            ],
            [
             0.3,
             "rgb(244,165,130)"
            ],
            [
             0.4,
             "rgb(253,219,199)"
            ],
            [
             0.5,
             "rgb(247,247,247)"
            ],
            [
             0.6,
             "rgb(209,229,240)"
            ],
            [
             0.7,
             "rgb(146,197,222)"
            ],
            [
             0.8,
             "rgb(67,147,195)"
            ],
            [
             0.9,
             "rgb(33,102,172)"
            ],
            [
             1,
             "rgb(5,48,97)"
            ]
           ],
           "type": "heatmap",
           "z": {
            "bdata": "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",
            "dtype": "f4",
            "shape": "32, 32"
           },
           "zmax": 1,
           "zmin": -1
          }
         ],
         "name": "40"
        },
        {
         "data": [
          {
           "colorscale": [
            [
             0,
             "rgb(103,0,31)"
            ],
            [
             0.1,
             "rgb(178,24,43)"
            ],
            [
             0.2,
             "rgb(214,96,77)"
            ],
            [
             0.3,
             "rgb(244,165,130)"
            ],
            [
             0.4,
             "rgb(253,219,199)"
            ],
            [
             0.5,
             "rgb(247,247,247)"
            ],
            [
             0.6,
             "rgb(209,229,240)"
            ],
            [
             0.7,
             "rgb(146,197,222)"
            ],
            [
             0.8,
             "rgb(67,147,195)"
            ],
            [
             0.9,
             "rgb(33,102,172)"
            ],
            [
             1,
             "rgb(5,48,97)"
            ]
           ],
           "type": "heatmap",
           "z": {
            "bdata": "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",
            "dtype": "f4",
            "shape": "32, 32"
           },
           "zmax": 1,
           "zmin": -1
          }
         ],
         "name": "41"
        },
        {
         "data": [
          {
           "colorscale": [
            [
             0,
             "rgb(103,0,31)"
            ],
            [
             0.1,
             "rgb(178,24,43)"
            ],
            [
             0.2,
             "rgb(214,96,77)"
            ],
            [
             0.3,
             "rgb(244,165,130)"
            ],
            [
             0.4,
             "rgb(253,219,199)"
            ],
            [
             0.5,
             "rgb(247,247,247)"
            ],
            [
             0.6,
             "rgb(209,229,240)"
            ],
            [
             0.7,
             "rgb(146,197,222)"
            ],
            [
             0.8,
             "rgb(67,147,195)"
            ],
            [
             0.9,
             "rgb(33,102,172)"
            ],
            [
             1,
             "rgb(5,48,97)"
            ]
           ],
           "type": "heatmap",
           "z": {
            "bdata": "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",
            "dtype": "f4",
            "shape": "32, 32"
           },
           "zmax": 1,
           "zmin": -1
          }
         ],
         "name": "42"
        },
        {
         "data": [
          {
           "colorscale": [
            [
             0,
             "rgb(103,0,31)"
            ],
            [
             0.1,
             "rgb(178,24,43)"
            ],
            [
             0.2,
             "rgb(214,96,77)"
            ],
            [
             0.3,
             "rgb(244,165,130)"
            ],
            [
             0.4,
             "rgb(253,219,199)"
            ],
            [
             0.5,
             "rgb(247,247,247)"
            ],
            [
             0.6,
             "rgb(209,229,240)"
            ],
            [
             0.7,
             "rgb(146,197,222)"
            ],
            [
             0.8,
             "rgb(67,147,195)"
            ],
            [
             0.9,
             "rgb(33,102,172)"
            ],
            [
             1,
             "rgb(5,48,97)"
            ]
           ],
           "type": "heatmap",
           "z": {
            "bdata": "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",
            "dtype": "f4",
            "shape": "32, 32"
           },
           "zmax": 1,
           "zmin": -1
          }
         ],
         "name": "43"
        },
        {
         "data": [
          {
           "colorscale": [
            [
             0,
             "rgb(103,0,31)"
            ],
            [
             0.1,
             "rgb(178,24,43)"
            ],
            [
             0.2,
             "rgb(214,96,77)"
            ],
            [
             0.3,
             "rgb(244,165,130)"
            ],
            [
             0.4,
             "rgb(253,219,199)"
            ],
            [
             0.5,
             "rgb(247,247,247)"
            ],
            [
             0.6,
             "rgb(209,229,240)"
            ],
            [
             0.7,
             "rgb(146,197,222)"
            ],
            [
             0.8,
             "rgb(67,147,195)"
            ],
            [
             0.9,
             "rgb(33,102,172)"
            ],
            [
             1,
             "rgb(5,48,97)"
            ]
           ],
           "type": "heatmap",
           "z": {
            "bdata": "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",
            "dtype": "f4",
            "shape": "32, 32"
           },
           "zmax": 1,
           "zmin": -1
          }
         ],
         "name": "44"
        }
       ],
       "layout": {
        "height": 800,
        "sliders": [
         {
          "active": 0,
          "currentvalue": {
           "font": {
            "size": 16
           },
           "prefix": "Step: ",
           "visible": true,
           "xanchor": "right"
          },
          "len": 0.9,
          "pad": {
           "b": 10,
           "t": 50
          },
          "steps": [
           {
            "args": [
             [
              "0"
             ],
             {
              "frame": {
               "duration": 0,
               "redraw": true
              },
              "mode": "immediate",
              "transition": {
               "duration": 0
              }
             }
            ],
            "label": "0",
            "method": "animate"
           },
           {
            "args": [
             [
              "1"
             ],
             {
              "frame": {
               "duration": 0,
               "redraw": true
              },
              "mode": "immediate",
              "transition": {
               "duration": 0
              }
             }
            ],
            "label": "1",
            "method": "animate"
           },
           {
            "args": [
             [
              "2"
             ],
             {
              "frame": {
               "duration": 0,
               "redraw": true
              },
              "mode": "immediate",
              "transition": {
               "duration": 0
              }
             }
            ],
            "label": "2",
            "method": "animate"
           },
           {
            "args": [
             [
              "3"
             ],
             {
              "frame": {
               "duration": 0,
               "redraw": true
              },
              "mode": "immediate",
              "transition": {
               "duration": 0
              }
             }
            ],
            "label": "3",
            "method": "animate"
           },
           {
            "args": [
             [
              "4"
             ],
             {
              "frame": {
               "duration": 0,
               "redraw": true
              },
              "mode": "immediate",
              "transition": {
               "duration": 0
              }
             }
            ],
            "label": "4",
            "method": "animate"
           },
           {
            "args": [
             [
              "5"
             ],
             {
              "frame": {
               "duration": 0,
               "redraw": true
              },
              "mode": "immediate",
              "transition": {
               "duration": 0
              }
             }
            ],
            "label": "5",
            "method": "animate"
           },
           {
            "args": [
             [
              "6"
             ],
             {
              "frame": {
               "duration": 0,
               "redraw": true
              },
              "mode": "immediate",
              "transition": {
               "duration": 0
              }
             }
            ],
            "label": "6",
            "method": "animate"
           },
           {
            "args": [
             [
              "7"
             ],
             {
              "frame": {
               "duration": 0,
               "redraw": true
              },
              "mode": "immediate",
              "transition": {
               "duration": 0
              }
             }
            ],
            "label": "7",
            "method": "animate"
           },
           {
            "args": [
             [
              "8"
             ],
             {
              "frame": {
               "duration": 0,
               "redraw": true
              },
              "mode": "immediate",
              "transition": {
               "duration": 0
              }
             }
            ],
            "label": "8",
            "method": "animate"
           },
           {
            "args": [
             [
              "9"
             ],
             {
              "frame": {
               "duration": 0,
               "redraw": true
              },
              "mode": "immediate",
              "transition": {
               "duration": 0
              }
             }
            ],
            "label": "9",
            "method": "animate"
           },
           {
            "args": [
             [
              "10"
             ],
             {
              "frame": {
               "duration": 0,
               "redraw": true
              },
              "mode": "immediate",
              "transition": {
               "duration": 0
              }
             }
            ],
            "label": "10",
            "method": "animate"
           },
           {
            "args": [
             [
              "11"
             ],
             {
              "frame": {
               "duration": 0,
               "redraw": true
              },
              "mode": "immediate",
              "transition": {
               "duration": 0
              }
             }
            ],
            "label": "11",
            "method": "animate"
           },
           {
            "args": [
             [
              "12"
             ],
             {
              "frame": {
               "duration": 0,
               "redraw": true
              },
              "mode": "immediate",
              "transition": {
               "duration": 0
              }
             }
            ],
            "label": "12",
            "method": "animate"
           },
           {
            "args": [
             [
              "13"
             ],
             {
              "frame": {
               "duration": 0,
               "redraw": true
              },
              "mode": "immediate",
              "transition": {
               "duration": 0
              }
             }
            ],
            "label": "13",
            "method": "animate"
           },
           {
            "args": [
             [
              "14"
             ],
             {
              "frame": {
               "duration": 0,
               "redraw": true
              },
              "mode": "immediate",
              "transition": {
               "duration": 0
              }
             }
            ],
            "label": "14",
            "method": "animate"
           },
           {
            "args": [
             [
              "15"
             ],
             {
              "frame": {
               "duration": 0,
               "redraw": true
              },
              "mode": "immediate",
              "transition": {
               "duration": 0
              }
             }
            ],
            "label": "15",
            "method": "animate"
           },
           {
            "args": [
             [
              "16"
             ],
             {
              "frame": {
               "duration": 0,
               "redraw": true
              },
              "mode": "immediate",
              "transition": {
               "duration": 0
              }
             }
            ],
            "label": "16",
            "method": "animate"
           },
           {
            "args": [
             [
              "17"
             ],
             {
              "frame": {
               "duration": 0,
               "redraw": true
              },
              "mode": "immediate",
              "transition": {
               "duration": 0
              }
             }
            ],
            "label": "17",
            "method": "animate"
           },
           {
            "args": [
             [
              "18"
             ],
             {
              "frame": {
               "duration": 0,
               "redraw": true
              },
              "mode": "immediate",
              "transition": {
               "duration": 0
              }
             }
            ],
            "label": "18",
            "method": "animate"
           },
           {
            "args": [
             [
              "19"
             ],
             {
              "frame": {
               "duration": 0,
               "redraw": true
              },
              "mode": "immediate",
              "transition": {
               "duration": 0
              }
             }
            ],
            "label": "19",
            "method": "animate"
           },
           {
            "args": [
             [
              "20"
             ],
             {
              "frame": {
               "duration": 0,
               "redraw": true
              },
              "mode": "immediate",
              "transition": {
               "duration": 0
              }
             }
            ],
            "label": "20",
            "method": "animate"
           },
           {
            "args": [
             [
              "21"
             ],
             {
              "frame": {
               "duration": 0,
               "redraw": true
              },
              "mode": "immediate",
              "transition": {
               "duration": 0
              }
             }
            ],
            "label": "21",
            "method": "animate"
           },
           {
            "args": [
             [
              "22"
             ],
             {
              "frame": {
               "duration": 0,
               "redraw": true
              },
              "mode": "immediate",
              "transition": {
               "duration": 0
              }
             }
            ],
            "label": "22",
            "method": "animate"
           },
           {
            "args": [
             [
              "23"
             ],
             {
              "frame": {
               "duration": 0,
               "redraw": true
              },
              "mode": "immediate",
              "transition": {
               "duration": 0
              }
             }
            ],
            "label": "23",
            "method": "animate"
           },
           {
            "args": [
             [
              "24"
             ],
             {
              "frame": {
               "duration": 0,
               "redraw": true
              },
              "mode": "immediate",
              "transition": {
               "duration": 0
              }
             }
            ],
            "label": "24",
            "method": "animate"
           },
           {
            "args": [
             [
              "25"
             ],
             {
              "frame": {
               "duration": 0,
               "redraw": true
              },
              "mode": "immediate",
              "transition": {
               "duration": 0
              }
             }
            ],
            "label": "25",
            "method": "animate"
           },
           {
            "args": [
             [
              "26"
             ],
             {
              "frame": {
               "duration": 0,
               "redraw": true
              },
              "mode": "immediate",
              "transition": {
               "duration": 0
              }
             }
            ],
            "label": "26",
            "method": "animate"
           },
           {
            "args": [
             [
              "27"
             ],
             {
              "frame": {
               "duration": 0,
               "redraw": true
              },
              "mode": "immediate",
              "transition": {
               "duration": 0
              }
             }
            ],
            "label": "27",
            "method": "animate"
           },
           {
            "args": [
             [
              "28"
             ],
             {
              "frame": {
               "duration": 0,
               "redraw": true
              },
              "mode": "immediate",
              "transition": {
               "duration": 0
              }
             }
            ],
            "label": "28",
            "method": "animate"
           },
           {
            "args": [
             [
              "29"
             ],
             {
              "frame": {
               "duration": 0,
               "redraw": true
              },
              "mode": "immediate",
              "transition": {
               "duration": 0
              }
             }
            ],
            "label": "29",
            "method": "animate"
           },
           {
            "args": [
             [
              "30"
             ],
             {
              "frame": {
               "duration": 0,
               "redraw": true
              },
              "mode": "immediate",
              "transition": {
               "duration": 0
              }
             }
            ],
            "label": "30",
            "method": "animate"
           },
           {
            "args": [
             [
              "31"
             ],
             {
              "frame": {
               "duration": 0,
               "redraw": true
              },
              "mode": "immediate",
              "transition": {
               "duration": 0
              }
             }
            ],
            "label": "31",
            "method": "animate"
           },
           {
            "args": [
             [
              "32"
             ],
             {
              "frame": {
               "duration": 0,
               "redraw": true
              },
              "mode": "immediate",
              "transition": {
               "duration": 0
              }
             }
            ],
            "label": "32",
            "method": "animate"
           },
           {
            "args": [
             [
              "33"
             ],
             {
              "frame": {
               "duration": 0,
               "redraw": true
              },
              "mode": "immediate",
              "transition": {
               "duration": 0
              }
             }
            ],
            "label": "33",
            "method": "animate"
           },
           {
            "args": [
             [
              "34"
             ],
             {
              "frame": {
               "duration": 0,
               "redraw": true
              },
              "mode": "immediate",
              "transition": {
               "duration": 0
              }
             }
            ],
            "label": "34",
            "method": "animate"
           },
           {
            "args": [
             [
              "35"
             ],
             {
              "frame": {
               "duration": 0,
               "redraw": true
              },
              "mode": "immediate",
              "transition": {
               "duration": 0
              }
             }
            ],
            "label": "35",
            "method": "animate"
           },
           {
            "args": [
             [
              "36"
             ],
             {
              "frame": {
               "duration": 0,
               "redraw": true
              },
              "mode": "immediate",
              "transition": {
               "duration": 0
              }
             }
            ],
            "label": "36",
            "method": "animate"
           },
           {
            "args": [
             [
              "37"
             ],
             {
              "frame": {
               "duration": 0,
               "redraw": true
              },
              "mode": "immediate",
              "transition": {
               "duration": 0
              }
             }
            ],
            "label": "37",
            "method": "animate"
           },
           {
            "args": [
             [
              "38"
             ],
             {
              "frame": {
               "duration": 0,
               "redraw": true
              },
              "mode": "immediate",
              "transition": {
               "duration": 0
              }
             }
            ],
            "label": "38",
            "method": "animate"
           },
           {
            "args": [
             [
              "39"
             ],
             {
              "frame": {
               "duration": 0,
               "redraw": true
              },
              "mode": "immediate",
              "transition": {
               "duration": 0
              }
             }
            ],
            "label": "39",
            "method": "animate"
           },
           {
            "args": [
             [
              "40"
             ],
             {
              "frame": {
               "duration": 0,
               "redraw": true
              },
              "mode": "immediate",
              "transition": {
               "duration": 0
              }
             }
            ],
            "label": "40",
            "method": "animate"
           },
           {
            "args": [
             [
              "41"
             ],
             {
              "frame": {
               "duration": 0,
               "redraw": true
              },
              "mode": "immediate",
              "transition": {
               "duration": 0
              }
             }
            ],
            "label": "41",
            "method": "animate"
           },
           {
            "args": [
             [
              "42"
             ],
             {
              "frame": {
               "duration": 0,
               "redraw": true
              },
              "mode": "immediate",
              "transition": {
               "duration": 0
              }
             }
            ],
            "label": "42",
            "method": "animate"
           },
           {
            "args": [
             [
              "43"
             ],
             {
              "frame": {
               "duration": 0,
               "redraw": true
              },
              "mode": "immediate",
              "transition": {
               "duration": 0
              }
             }
            ],
            "label": "43",
            "method": "animate"
           },
           {
            "args": [
             [
              "44"
             ],
             {
              "frame": {
               "duration": 0,
               "redraw": true
              },
              "mode": "immediate",
              "transition": {
               "duration": 0
              }
             }
            ],
            "label": "44",
            "method": "animate"
           }
          ],
          "transition": {
           "duration": 0
          },
          "x": 0.1,
          "xanchor": "left",
          "y": 0,
          "yanchor": "top"
         }
        ],
        "template": {
         "data": {
          "bar": [
           {
            "error_x": {
             "color": "#2a3f5f"
            },
            "error_y": {
             "color": "#2a3f5f"
            },
            "marker": {
             "line": {
              "color": "#E5ECF6",
              "width": 0.5
             },
             "pattern": {
              "fillmode": "overlay",
              "size": 10,
              "solidity": 0.2
             }
            },
            "type": "bar"
           }
          ],
          "barpolar": [
           {
            "marker": {
             "line": {
              "color": "#E5ECF6",
              "width": 0.5
             },
             "pattern": {
              "fillmode": "overlay",
              "size": 10,
              "solidity": 0.2
             }
            },
            "type": "barpolar"
           }
          ],
          "carpet": [
           {
            "aaxis": {
             "endlinecolor": "#2a3f5f",
             "gridcolor": "white",
             "linecolor": "white",
             "minorgridcolor": "white",
             "startlinecolor": "#2a3f5f"
            },
            "baxis": {
             "endlinecolor": "#2a3f5f",
             "gridcolor": "white",
             "linecolor": "white",
             "minorgridcolor": "white",
             "startlinecolor": "#2a3f5f"
            },
            "type": "carpet"
           }
          ],
          "choropleth": [
           {
            "colorbar": {
             "outlinewidth": 0,
             "ticks": ""
            },
            "type": "choropleth"
           }
          ],
          "contour": [
           {
            "colorbar": {
             "outlinewidth": 0,
             "ticks": ""
            },
            "colorscale": [
             [
              0,
              "#0d0887"
             ],
             [
              0.1111111111111111,
              "#46039f"
             ],
             [
              0.2222222222222222,
              "#7201a8"
             ],
             [
              0.3333333333333333,
              "#9c179e"
             ],
             [
              0.4444444444444444,
              "#bd3786"
             ],
             [
              0.5555555555555556,
              "#d8576b"
             ],
             [
              0.6666666666666666,
              "#ed7953"
             ],
             [
              0.7777777777777778,
              "#fb9f3a"
             ],
             [
              0.8888888888888888,
              "#fdca26"
             ],
             [
              1,
              "#f0f921"
             ]
            ],
            "type": "contour"
           }
          ],
          "contourcarpet": [
           {
            "colorbar": {
             "outlinewidth": 0,
             "ticks": ""
            },
            "type": "contourcarpet"
           }
          ],
          "heatmap": [
           {
            "colorbar": {
             "outlinewidth": 0,
             "ticks": ""
            },
            "colorscale": [
             [
              0,
              "#0d0887"
             ],
             [
              0.1111111111111111,
              "#46039f"
             ],
             [
              0.2222222222222222,
              "#7201a8"
             ],
             [
              0.3333333333333333,
              "#9c179e"
             ],
             [
              0.4444444444444444,
              "#bd3786"
             ],
             [
              0.5555555555555556,
              "#d8576b"
             ],
             [
              0.6666666666666666,
              "#ed7953"
             ],
             [
              0.7777777777777778,
              "#fb9f3a"
             ],
             [
              0.8888888888888888,
              "#fdca26"
             ],
             [
              1,
              "#f0f921"
             ]
            ],
            "type": "heatmap"
           }
          ],
          "histogram": [
           {
            "marker": {
             "pattern": {
              "fillmode": "overlay",
              "size": 10,
              "solidity": 0.2
             }
            },
            "type": "histogram"
           }
          ],
          "histogram2d": [
           {
            "colorbar": {
             "outlinewidth": 0,
             "ticks": ""
            },
            "colorscale": [
             [
              0,
              "#0d0887"
             ],
             [
              0.1111111111111111,
              "#46039f"
             ],
             [
              0.2222222222222222,
              "#7201a8"
             ],
             [
              0.3333333333333333,
              "#9c179e"
             ],
             [
              0.4444444444444444,
              "#bd3786"
             ],
             [
              0.5555555555555556,
              "#d8576b"
             ],
             [
              0.6666666666666666,
              "#ed7953"
             ],
             [
              0.7777777777777778,
              "#fb9f3a"
             ],
             [
              0.8888888888888888,
              "#fdca26"
             ],
             [
              1,
              "#f0f921"
             ]
            ],
            "type": "histogram2d"
           }
          ],
          "histogram2dcontour": [
           {
            "colorbar": {
             "outlinewidth": 0,
             "ticks": ""
            },
            "colorscale": [
             [
              0,
              "#0d0887"
             ],
             [
              0.1111111111111111,
              "#46039f"
             ],
             [
              0.2222222222222222,
              "#7201a8"
             ],
             [
              0.3333333333333333,
              "#9c179e"
             ],
             [
              0.4444444444444444,
              "#bd3786"
             ],
             [
              0.5555555555555556,
              "#d8576b"
             ],
             [
              0.6666666666666666,
              "#ed7953"
             ],
             [
              0.7777777777777778,
              "#fb9f3a"
             ],
             [
              0.8888888888888888,
              "#fdca26"
             ],
             [
              1,
              "#f0f921"
             ]
            ],
            "type": "histogram2dcontour"
           }
          ],
          "mesh3d": [
           {
            "colorbar": {
             "outlinewidth": 0,
             "ticks": ""
            },
            "type": "mesh3d"
           }
          ],
          "parcoords": [
           {
            "line": {
             "colorbar": {
              "outlinewidth": 0,
              "ticks": ""
             }
            },
            "type": "parcoords"
           }
          ],
          "pie": [
           {
            "automargin": true,
            "type": "pie"
           }
          ],
          "scatter": [
           {
            "fillpattern": {
             "fillmode": "overlay",
             "size": 10,
             "solidity": 0.2
            },
            "type": "scatter"
           }
          ],
          "scatter3d": [
           {
            "line": {
             "colorbar": {
              "outlinewidth": 0,
              "ticks": ""
             }
            },
            "marker": {
             "colorbar": {
              "outlinewidth": 0,
              "ticks": ""
             }
            },
            "type": "scatter3d"
           }
          ],
          "scattercarpet": [
           {
            "marker": {
             "colorbar": {
              "outlinewidth": 0,
              "ticks": ""
             }
            },
            "type": "scattercarpet"
           }
          ],
          "scattergeo": [
           {
            "marker": {
             "colorbar": {
              "outlinewidth": 0,
              "ticks": ""
             }
            },
            "type": "scattergeo"
           }
          ],
          "scattergl": [
           {
            "marker": {
             "colorbar": {
              "outlinewidth": 0,
              "ticks": ""
             }
            },
            "type": "scattergl"
           }
          ],
          "scattermap": [
           {
            "marker": {
             "colorbar": {
              "outlinewidth": 0,
              "ticks": ""
             }
            },
            "type": "scattermap"
           }
          ],
          "scattermapbox": [
           {
            "marker": {
             "colorbar": {
              "outlinewidth": 0,
              "ticks": ""
             }
            },
            "type": "scattermapbox"
           }
          ],
          "scatterpolar": [
           {
            "marker": {
             "colorbar": {
              "outlinewidth": 0,
              "ticks": ""
             }
            },
            "type": "scatterpolar"
           }
          ],
          "scatterpolargl": [
           {
            "marker": {
             "colorbar": {
              "outlinewidth": 0,
              "ticks": ""
             }
            },
            "type": "scatterpolargl"
           }
          ],
          "scatterternary": [
           {
            "marker": {
             "colorbar": {
              "outlinewidth": 0,
              "ticks": ""
             }
            },
            "type": "scatterternary"
           }
          ],
          "surface": [
           {
            "colorbar": {
             "outlinewidth": 0,
             "ticks": ""
            },
            "colorscale": [
             [
              0,
              "#0d0887"
             ],
             [
              0.1111111111111111,
              "#46039f"
             ],
             [
              0.2222222222222222,
              "#7201a8"
             ],
             [
              0.3333333333333333,
              "#9c179e"
             ],
             [
              0.4444444444444444,
              "#bd3786"
             ],
             [
              0.5555555555555556,
              "#d8576b"
             ],
             [
              0.6666666666666666,
              "#ed7953"
             ],
             [
              0.7777777777777778,
              "#fb9f3a"
             ],
             [
              0.8888888888888888,
              "#fdca26"
             ],
             [
              1,
              "#f0f921"
             ]
            ],
            "type": "surface"
           }
          ],
          "table": [
           {
            "cells": {
             "fill": {
              "color": "#EBF0F8"
             },
             "line": {
              "color": "white"
             }
            },
            "header": {
             "fill": {
              "color": "#C8D4E3"
             },
             "line": {
              "color": "white"
             }
            },
            "type": "table"
           }
          ]
         },
         "layout": {
          "annotationdefaults": {
           "arrowcolor": "#2a3f5f",
           "arrowhead": 0,
           "arrowwidth": 1
          },
          "autotypenumbers": "strict",
          "coloraxis": {
           "colorbar": {
            "outlinewidth": 0,
            "ticks": ""
           }
          },
          "colorscale": {
           "diverging": [
            [
             0,
             "#8e0152"
            ],
            [
             0.1,
             "#c51b7d"
            ],
            [
             0.2,
             "#de77ae"
            ],
            [
             0.3,
             "#f1b6da"
            ],
            [
             0.4,
             "#fde0ef"
            ],
            [
             0.5,
             "#f7f7f7"
            ],
            [
             0.6,
             "#e6f5d0"
            ],
            [
             0.7,
             "#b8e186"
            ],
            [
             0.8,
             "#7fbc41"
            ],
            [
             0.9,
             "#4d9221"
            ],
            [
             1,
             "#276419"
            ]
           ],
           "sequential": [
            [
             0,
             "#0d0887"
            ],
            [
             0.1111111111111111,
             "#46039f"
            ],
            [
             0.2222222222222222,
             "#7201a8"
            ],
            [
             0.3333333333333333,
             "#9c179e"
            ],
            [
             0.4444444444444444,
             "#bd3786"
            ],
            [
             0.5555555555555556,
             "#d8576b"
            ],
            [
             0.6666666666666666,
             "#ed7953"
            ],
            [
             0.7777777777777778,
             "#fb9f3a"
            ],
            [
             0.8888888888888888,
             "#fdca26"
            ],
            [
             1,
             "#f0f921"
            ]
           ],
           "sequentialminus": [
            [
             0,
             "#0d0887"
            ],
            [
             0.1111111111111111,
             "#46039f"
            ],
            [
             0.2222222222222222,
             "#7201a8"
            ],
            [
             0.3333333333333333,
             "#9c179e"
            ],
            [
             0.4444444444444444,
             "#bd3786"
            ],
            [
             0.5555555555555556,
             "#d8576b"
            ],
            [
             0.6666666666666666,
             "#ed7953"
            ],
            [
             0.7777777777777778,
             "#fb9f3a"
            ],
            [
             0.8888888888888888,
             "#fdca26"
            ],
            [
             1,
             "#f0f921"
            ]
           ]
          },
          "colorway": [
           "#636efa",
           "#EF553B",
           "#00cc96",
           "#ab63fa",
           "#FFA15A",
           "#19d3f3",
           "#FF6692",
           "#B6E880",
           "#FF97FF",
           "#FECB52"
          ],
          "font": {
           "color": "#2a3f5f"
          },
          "geo": {
           "bgcolor": "white",
           "lakecolor": "white",
           "landcolor": "#E5ECF6",
           "showlakes": true,
           "showland": true,
           "subunitcolor": "white"
          },
          "hoverlabel": {
           "align": "left"
          },
          "hovermode": "closest",
          "mapbox": {
           "style": "light"
          },
          "paper_bgcolor": "white",
          "plot_bgcolor": "#E5ECF6",
          "polar": {
           "angularaxis": {
            "gridcolor": "white",
            "linecolor": "white",
            "ticks": ""
           },
           "bgcolor": "#E5ECF6",
           "radialaxis": {
            "gridcolor": "white",
            "linecolor": "white",
            "ticks": ""
           }
          },
          "scene": {
           "xaxis": {
            "backgroundcolor": "#E5ECF6",
            "gridcolor": "white",
            "gridwidth": 2,
            "linecolor": "white",
            "showbackground": true,
            "ticks": "",
            "zerolinecolor": "white"
           },
           "yaxis": {
            "backgroundcolor": "#E5ECF6",
            "gridcolor": "white",
            "gridwidth": 2,
            "linecolor": "white",
            "showbackground": true,
            "ticks": "",
            "zerolinecolor": "white"
           },
           "zaxis": {
            "backgroundcolor": "#E5ECF6",
            "gridcolor": "white",
            "gridwidth": 2,
            "linecolor": "white",
            "showbackground": true,
            "ticks": "",
            "zerolinecolor": "white"
           }
          },
          "shapedefaults": {
           "line": {
            "color": "#2a3f5f"
           }
          },
          "ternary": {
           "aaxis": {
            "gridcolor": "white",
            "linecolor": "white",
            "ticks": ""
           },
           "baxis": {
            "gridcolor": "white",
            "linecolor": "white",
            "ticks": ""
           },
           "bgcolor": "#E5ECF6",
           "caxis": {
            "gridcolor": "white",
            "linecolor": "white",
            "ticks": ""
           }
          },
          "title": {
           "x": 0.05
          },
          "xaxis": {
           "automargin": true,
           "gridcolor": "white",
           "linecolor": "white",
           "ticks": "",
           "title": {
            "standoff": 15
           },
           "zerolinecolor": "white",
           "zerolinewidth": 2
          },
          "yaxis": {
           "automargin": true,
           "gridcolor": "white",
           "linecolor": "white",
           "ticks": "",
           "title": {
            "standoff": 15
           },
           "zerolinecolor": "white",
           "zerolinewidth": 2
          }
         }
        },
        "title": {
         "text": "Spin Evolution Heatmap"
        },
        "updatemenus": [
         {
          "buttons": [
           {
            "args": [
             null,
             {
              "frame": {
               "duration": 50,
               "redraw": true
              },
              "fromcurrent": true,
              "transition": {
               "duration": 0
              }
             }
            ],
            "label": "Play",
            "method": "animate"
           },
           {
            "args": [
             [
              null
             ],
             {
              "frame": {
               "duration": 0,
               "redraw": false
              },
              "mode": "immediate",
              "transition": {
               "duration": 0
              }
             }
            ],
            "label": "Pause",
            "method": "animate"
           }
          ],
          "showactive": false,
          "type": "buttons"
         }
        ],
        "width": 800,
        "xaxis": {
         "showgrid": false,
         "zeroline": false
        },
        "yaxis": {
         "scaleanchor": "x",
         "showgrid": false,
         "zeroline": false
        }
       }
      }
     },
     "metadata": {},
     "output_type": "display_data"
    }
   ],
   "source": [
    "plot_spin_evolution(results[\"overlap_evolution\"][:, -1, :, :], 51)"
   ]
  },
  {
   "cell_type": "code",
   "execution_count": 16,
   "id": "98d34bec",
   "metadata": {},
   "outputs": [
    {
     "data": {
      "image/png": "[encoded data removed]",
      "text/plain": [
       "<Figure size 1200x600 with 1 Axes>"
      ]
     },
     "metadata": {},
     "output_type": "display_data"
    }
   ],
   "source": [
    "with open(\"../data/results_sherrington_kirkpatrick_2d_gaussian_30000.pkl\", 'rb') as f:\n",
    "    results = pickle.load(f)\n",
    "    betas_sorted = results['betas']\n",
    "    \n",
    "mean_overlap = tf.reduce_mean(results[\"overlap_evolution\"][:, -1, :, :], axis=[1, 2])\n",
    "var_overlap = tf.math.reduce_variance(results[\"overlap_evolution\"][:, -1, :, :], axis=[1, 2])\n",
    "\n",
    "\n",
    "plt.figure(figsize=(12, 6))\n",
    "# Plot mean\n",
    "plt.plot(\n",
    "    betas_sorted,\n",
    "    mean_overlap,\n",
    "    lw=1,\n",
    "    color=\"black\",\n",
    "    label=r\"$\\langle Q_{ab}\\rangle$ (mean)\",\n",
    ")\n",
    "\n",
    "# Plot variance\n",
    "plt.plot(\n",
    "    betas_sorted,\n",
    "    var_overlap,\n",
    "    lw=1,\n",
    "    ls=\"--\",\n",
    "    color=\"red\",\n",
    "    label=r\"$\\mathrm{Var}(Q_{ab})$\",\n",
    ")\n",
    "\n",
    "plt.xscale(\"log\")  # Logarithmic x-axis\n",
    "plt.xlabel(r\"$\\beta$\")\n",
    "plt.ylabel(r\"$\\langle Q_{ab}\\rangle$, $\\mathrm{Var}(Q_{ab})$\")\n",
    "plt.title(r\"Average and Variance of Overlaps vs $\\beta$\")\n",
    "plt.grid(True, alpha=0.3)\n",
    "plt.legend()\n",
    "plt.show()"
   ]
  },
  {
   "cell_type": "code",
   "execution_count": null,
   "id": "9a27caa7",
   "metadata": {},
   "outputs": [],
   "source": []
  }
 ],
 "metadata": {
  "kernelspec": {
   "display_name": ".venv",
   "language": "python",
   "name": "python3"
  },
  "language_info": {
   "codemirror_mode": {
    "name": "ipython",
    "version": 3
   },
   "file_extension": ".py",
   "mimetype": "text/x-python",
   "name": "python",
   "nbconvert_exporter": "python",
   "pygments_lexer": "ipython3",
   "version": "3.12.3"
  }
 },
 "nbformat": 4,
 "nbformat_minor": 5
}
