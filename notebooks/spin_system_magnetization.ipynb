{
 "cells": [
  {
   "cell_type": "code",
   "execution_count": null,
   "id": "92903903",
   "metadata": {},
   "outputs": [],
   "source": [
    "import os\n",
    "import logging\n",
    "\n",
    "# Configure logging\n",
    "logging.basicConfig(\n",
    "    level=logging.INFO,\n",
    "    format=\"%(asctime)s [%(levelname)s] %(message)s\",\n",
    "    datefmt=\"%H:%M:%S\"\n",
    ")\n"
   ]
  },
  {
   "cell_type": "code",
   "execution_count": null,
   "id": "ae90ad84",
   "metadata": {},
   "outputs": [
    {
     "name": "stderr",
     "output_type": "stream",
     "text": [
      "2025-09-24 12:49:14.512116: I tensorflow/core/util/port.cc:153] oneDNN custom operations are on. You may see slightly different numerical results due to floating-point round-off errors from different computation orders. To turn them off, set the environment variable `TF_ENABLE_ONEDNN_OPTS=0`.\n",
      "2025-09-24 12:49:14.561823: I tensorflow/core/platform/cpu_feature_guard.cc:210] This TensorFlow binary is optimized to use available CPU instructions in performance-critical operations.\n",
      "To enable the following instructions: AVX2 AVX_VNNI FMA, in other operations, rebuild TensorFlow with the appropriate compiler flags.\n"
     ]
    }
   ],
   "source": [
    "from spin_system import SpinSystem\n",
    "from spin_system import interactions\n",
    "\n",
    "import numpy as np\n",
    "import tensorflow as tf\n",
    "\n",
    "import matplotlib.pyplot as plt\n",
    "\n",
    "import json\n"
   ]
  },
  {
   "cell_type": "code",
   "execution_count": 4,
   "id": "d664e02b",
   "metadata": {},
   "outputs": [],
   "source": [
    "def dump_magnetization_json(results, betas, lattice_length, out_dir=\"../data\"):\n",
    "    # Ensure results is numpy\n",
    "    results_np = np.array(results[\"magnetization_evolution\"])   # shape (20, 100001)\n",
    "    betas_np = betas.numpy()         # shape (20,)\n",
    "\n",
    "    data = {\n",
    "        f\"{beta:.5f}\": results_np[i].tolist()\n",
    "        for i, beta in enumerate(betas_np)\n",
    "    }\n",
    "        # Ensure output directory exists\n",
    "    os.makedirs(out_dir, exist_ok=True)\n",
    "\n",
    "    # Define path\n",
    "    out_file = os.path.join(out_dir, f\"results_n{lattice_length}.json\")\n",
    "\n",
    "\n",
    "    with open(out_file, \"w\") as f:\n",
    "        json.dump(data, f, indent=2)"
   ]
  },
  {
   "cell_type": "code",
   "execution_count": 5,
   "id": "7e778b61",
   "metadata": {},
   "outputs": [],
   "source": [
    "def create_betas(start, end, focus_start, focus_end, n_total, n_focus):\n",
    "    focus_points = tf.linspace(focus_start, focus_end, n_focus)\n",
    "\n",
    "    n_remaining = n_total - n_focus\n",
    "    outer_points = tf.linspace(start, end, n_remaining)\n",
    "\n",
    "    betas = tf.sort(tf.concat([focus_points, outer_points], axis=0))\n",
    "    return betas"
   ]
  },
  {
   "cell_type": "code",
   "execution_count": null,
   "id": "02012642",
   "metadata": {},
   "outputs": [
    {
     "name": "stderr",
     "output_type": "stream",
     "text": [
      "WARNING: All log messages before absl::InitializeLog() is called are written to STDERR\n",
      "I0000 00:00:1758728957.043408   39792 gpu_device.cc:2020] Created device /job:localhost/replica:0/task:0/device:GPU:0 with 5563 MB memory:  -> device: 0, name: NVIDIA GeForce RTX 4060 Laptop GPU, pci bus id: 0000:01:00.0, compute capability: 8.9\n"
     ]
    },
    {
     "data": {
      "image/png": "[encoded data removed]",
      "text/plain": [
       "<Figure size 640x480 with 1 Axes>"
      ]
     },
     "metadata": {},
     "output_type": "display_data"
    }
   ],
   "source": [
    "lattice_dim = 2\n",
    "sweep_length = 100000\n",
    "betas = create_betas(0.01, 1, 0.38, 0.48, 20, 12)\n",
    "for lattice_length in [32]:\n",
    "    interaction_matrix = interactions.periodic_nn(lattice_dim, lattice_length)\n",
    "    spin_system = SpinSystem(\n",
    "        lattice_dim=lattice_dim,\n",
    "        lattice_length=lattice_length,\n",
    "        interaction_matrix=interaction_matrix,\n",
    "        model=\"ising\",\n",
    "        initial_magnetization=0.5\n",
    "    )\n",
    "\n",
    "    # Run multi-temperature sweeps\n",
    "    results = spin_system.multi_temperature_sweep(\n",
    "        betas=betas,\n",
    "        num_disturb=tf.constant(1, dtype=tf.int32),\n",
    "        sweep_length=sweep_length,\n",
    "        track_spins=False,\n",
    "        track_energy=False,\n",
    "        track_magnetization=True\n",
    "    )\n",
    "\n",
    "    magnetizations = results[\"magnetization_evolution\"]\n",
    "\n",
    "    final_mags = magnetizations[:, -1].numpy()\n",
    "    plt.plot(betas.numpy(), final_mags, marker='o')\n",
    "    plt.xlabel(r\"$\\beta$\")\n",
    "    plt.ylabel(\"Magnetization\")\n",
    "    plt.title(\"Magnetization vs β\")\n",
    "    plt.show()\n",
    "\n",
    "    dump_magnetization_json(results, betas, lattice_length)"
   ]
  },
  {
   "cell_type": "code",
   "execution_count": 8,
   "id": "b7fde332",
   "metadata": {},
   "outputs": [],
   "source": [
    "# # Run multi-temperature sweeps\n",
    "# results = spin_system.multi_temperature_sweep(\n",
    "#     betas=betas,\n",
    "#     num_disturb=tf.constant(1, dtype=tf.int32),\n",
    "#     sweep_length=sweep_length,\n",
    "#     track_spins=False,\n",
    "#     track_energy=False,\n",
    "#     track_magnetization=True\n",
    "# )\n",
    "\n",
    "# magnetizations = results[\"magnetization_evolution\"]\n",
    "\n",
    "# final_mags = magnetizations[:, -1].numpy()\n",
    "# plt.plot(betas.numpy(), final_mags, marker='o')\n",
    "# plt.xlabel(r\"$\\beta$\")\n",
    "# plt.ylabel(\"Magnetization\")\n",
    "# plt.title(\"Magnetization vs β\")\n",
    "# plt.show()"
   ]
  },
  {
   "cell_type": "code",
   "execution_count": 9,
   "id": "27fbd6ed",
   "metadata": {},
   "outputs": [],
   "source": [
    "# lattice_dim = 2\n",
    "# lattice_length = 30\n",
    "# sweep_length = 10000\n",
    "# num_sweeps = range(10)\n",
    "\n",
    "# start, end = 0.01, 1.0\n",
    "# focus_start, focus_end = 0.38, 0.48\n",
    "# n_total, n_focus = 20, 15\n",
    "\n",
    "# focus_points = tf.linspace(focus_start, focus_end, n_focus)\n",
    "\n",
    "# n_remaining = n_total - n_focus\n",
    "# outer_points = tf.linspace(start, end, n_remaining)\n",
    "\n",
    "# betas = tf.sort(tf.concat([focus_points, outer_points], axis=0))\n",
    "\n",
    "# num_disturb = 1\n",
    "# initial_magnetization = 0.5\n",
    "\n",
    "# interaction_matrix = generate_periodic_nn_coupling_tensor(lattice_dim, lattice_length)\n",
    "\n",
    "# magnetizations = []\n",
    "\n",
    "# total_steps = len(betas) * len(num_sweeps)\n",
    "# step_counter = 0\n",
    "\n",
    "# for i, beta in enumerate(betas, start=1):\n",
    "#     ising_spin_system = SpinSystem(\n",
    "#         lattice_dim=lattice_dim,\n",
    "#         lattice_length=lattice_length,\n",
    "#         interaction_matrix=interaction_matrix,\n",
    "#         model=\"ising\",\n",
    "#         initial_magnetization=initial_magnetization\n",
    "#     )\n",
    "\n",
    "#     logging.info(f\"Starting β {i}/{len(betas)} = {beta:.3f}\")\n",
    "\n",
    "#     for j, sweep in enumerate(num_sweeps, start=1):\n",
    "#         ising_results = ising_spin_system.metropolis_sweep(\n",
    "#             beta=float(beta),\n",
    "#             num_disturb=num_disturb,\n",
    "#             sweep_length=sweep_length,\n",
    "#             track_spins=False,\n",
    "#             track_energy=False,\n",
    "#             track_magnetization=True\n",
    "#         )\n",
    "\n",
    "#         step_counter += 1\n",
    "#         if j % 10 == 0 or j == len(num_sweeps):\n",
    "#             progress = 100 * step_counter / total_steps\n",
    "#             logging.info(\n",
    "#                 f\"  Sweep {j}/{len(num_sweeps)} finished \"\n",
    "#                 f\"(progress: {progress:.1f}%)\"\n",
    "#             )\n",
    "\n",
    "#     magnetizations.append(ising_results['magnetization_evolution'][-1].numpy())\n",
    "\n",
    "# logging.info(\"Simulation complete. Plotting results...\")\n",
    "\n",
    "# plt.plot(betas, magnetizations, marker='o')\n",
    "# plt.xlabel(r\"$\\beta$\")\n",
    "# plt.ylabel(\"Magnetization\")\n",
    "# plt.title(\"Magnetization vs β\")\n",
    "# plt.show()\n"
   ]
  }
 ],
 "metadata": {
  "kernelspec": {
   "display_name": ".venv",
   "language": "python",
   "name": "python3"
  },
  "language_info": {
   "codemirror_mode": {
    "name": "ipython",
    "version": 3
   },
   "file_extension": ".py",
   "mimetype": "text/x-python",
   "name": "python",
   "nbconvert_exporter": "python",
   "pygments_lexer": "ipython3",
   "version": "3.12.3"
  }
 },
 "nbformat": 4,
 "nbformat_minor": 5
}
